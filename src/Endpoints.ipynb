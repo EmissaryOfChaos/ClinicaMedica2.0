{
 "cells": [
  {
   "cell_type": "markdown",
   "id": "44451302",
   "metadata": {},
   "source": [
    "Endpoint raiz (metodo GET, retorna a página inicial)"
   ]
  },
  {
   "cell_type": "code",
   "execution_count": 9,
   "id": "5b55fe16",
   "metadata": {},
   "outputs": [
    {
     "name": "stdout",
     "output_type": "stream",
     "text": [
      "Status: 200\n",
      "Conteúdo:\n",
      "<h1>Seja bem-vindo à Clínica! 🏥</h1>\n"
     ]
    }
   ],
   "source": [
    "import requests\n",
    "\n",
    "url = \"http://localhost:5000/\" \n",
    "resposta = requests.get(url)\n",
    "\n",
    "print(\"Status:\", resposta.status_code)\n",
    "print(\"Conteúdo:\")\n",
    "print(resposta.text) "
   ]
  },
  {
   "cell_type": "markdown",
   "id": "19c8f9ac",
   "metadata": {},
   "source": [
    "Endpoint para listagem de pacientes (método GET)"
   ]
  },
  {
   "cell_type": "code",
   "execution_count": null,
   "id": "a5ddbceb",
   "metadata": {},
   "outputs": [
    {
     "name": "stdout",
     "output_type": "stream",
     "text": [
      "Status: 200\n",
      "Resposta: [{'cpf': '12345678900', 'data_nascimento': '1990-01-01', 'id': 1, 'nome': 'João', 'prontuario': 'queixas de dor de cabeça', 'telefone': '11999999999', 'tipo': 'paciente'}, {'cpf': '12395678932', 'data_nascimento': '1980-06-30', 'id': 2, 'nome': 'Vivian Marshall', 'prontuario': 'queixas de dor na lombar', 'telefone': '11979978868', 'tipo': 'paciente'}, {'cpf': '10987654321', 'data_nascimento': '1990-08-15', 'id': 3, 'nome': 'Maria Souza', 'prontuario': 'PRONT123', 'telefone': '21912345678', 'tipo': 'paciente'}]\n"
     ]
    }
   ],
   "source": [
    "import requests\n",
    "\n",
    "url = \"http://localhost:5000//pacientes\"\n",
    "response = requests.get(url)\n",
    "\n",
    "print(\"Status:\", response.status_code)\n",
    "print(\"Resposta:\", response.json())"
   ]
  },
  {
   "cell_type": "markdown",
   "id": "4a9638b4",
   "metadata": {},
   "source": [
    "Endpoint para lbusca de pacientes por ID (método GET)"
   ]
  },
  {
   "cell_type": "code",
   "execution_count": 10,
   "id": "7d9a3e90",
   "metadata": {},
   "outputs": [
    {
     "name": "stdout",
     "output_type": "stream",
     "text": [
      "Status: 200\n",
      "Resposta: {'cpf': '12345678901', 'data_nascimento': '1990-01-03', 'id': 1, 'nome': 'Joao Teixeira', 'prontuario': 'queixas de dor de cabeca intensa', 'telefone': '11999999996', 'tipo': 'paciente'}\n"
     ]
    }
   ],
   "source": [
    "import requests\n",
    "\n",
    "url = \"http://localhost:5000/pacientes/1\"\n",
    "response = requests.get(url)\n",
    "\n",
    "print(\"Status:\", response.status_code)\n",
    "print(\"Resposta:\", response.json())"
   ]
  },
  {
   "cell_type": "markdown",
   "id": "988fa78f",
   "metadata": {},
   "source": [
    "Endpoint para listagem de medicos (método GET)"
   ]
  },
  {
   "cell_type": "code",
   "execution_count": null,
   "id": "554cc037",
   "metadata": {},
   "outputs": [
    {
     "name": "stdout",
     "output_type": "stream",
     "text": [
      "Status: 200\n",
      "Resposta: [{'cpf': '12345678901', 'crm': 'CRM12345', 'data_nascimento': '1980-05-15', 'especialidade_id': 2, 'id': 1, 'nome': 'Dra. Ana Vargas', 'telefone': '11999998888', 'tipo': 'medico'}, {'cpf': '12395678901', 'crm': 'CRM12945', 'data_nascimento': '1980-12-15', 'especialidade_id': 2, 'id': 2, 'nome': 'Dra Carina', 'telefone': '11999978888', 'tipo': 'medico'}, {'cpf': '12395678931', 'crm': 'CRM12985', 'data_nascimento': '1980-12-30', 'especialidade_id': 3, 'id': 3, 'nome': 'Dr Geraldo', 'telefone': '11999978868', 'tipo': 'medico'}, {'cpf': '12345978901', 'crm': 'CRM12845', 'data_nascimento': '1980-05-20', 'especialidade_id': 1, 'id': 5, 'nome': 'Dr. João Silva', 'telefone': '21987654321', 'tipo': 'medico'}]\n"
     ]
    }
   ],
   "source": [
    "import requests\n",
    "\n",
    "url = \"http://localhost:5000/medicos\"\n",
    "response = requests.get(url)\n",
    "\n",
    "print(\"Status:\", response.status_code)\n",
    "print(\"Resposta:\", response.json())"
   ]
  },
  {
   "cell_type": "markdown",
   "id": "a87a3b36",
   "metadata": {},
   "source": [
    "Endpoint para busca de medicos por ID (método GET)"
   ]
  },
  {
   "cell_type": "code",
   "execution_count": 6,
   "id": "7446c716",
   "metadata": {},
   "outputs": [
    {
     "name": "stdout",
     "output_type": "stream",
     "text": [
      "Status: 200\n",
      "Resposta: {'cpf': '12345678911', 'crm': 'CRM12345', 'data_nascimento': '1990-01-04', 'especialidade_id': 2, 'id': 1, 'nome': 'Dra Ana Matias', 'telefone': '11999959996', 'tipo': 'medico'}\n"
     ]
    }
   ],
   "source": [
    "import requests\n",
    "\n",
    "url = \"http://localhost:5000/medicos/1\"\n",
    "response = requests.get(url)\n",
    "\n",
    "print(\"Status:\", response.status_code)\n",
    "print(\"Resposta:\", response.json())"
   ]
  },
  {
   "cell_type": "markdown",
   "id": "20669199",
   "metadata": {},
   "source": [
    "Endpoint para listagem de consultas (método GET)"
   ]
  },
  {
   "cell_type": "code",
   "execution_count": null,
   "id": "e480b65e",
   "metadata": {},
   "outputs": [
    {
     "name": "stdout",
     "output_type": "stream",
     "text": [
      "Status: 200\n",
      "Resposta: [{'data_consulta': '2025-06-10', 'horario': '14:30', 'id': 1, 'medico_id': 1, 'paciente_id': 1}, {'data_consulta': '2025-06-10', 'horario': '14:30', 'id': 2, 'medico_id': 1, 'paciente_id': 1}, {'data_consulta': '2025-11-24', 'horario': '15:00', 'id': 3, 'medico_id': 2, 'paciente_id': 1}, {'data_consulta': '2025-10-24', 'horario': '15:00', 'id': 4, 'medico_id': 3, 'paciente_id': 2}, {'data_consulta': '2025-10-24', 'horario': '15:10', 'id': 5, 'medico_id': 3, 'paciente_id': 2}]\n"
     ]
    }
   ],
   "source": [
    "import requests\n",
    "\n",
    "url = \"http://localhost:5000/consultas\"\n",
    "response = requests.get(url)\n",
    "\n",
    "print(\"Status:\", response.status_code)\n",
    "print(\"Resposta:\", response.json())"
   ]
  },
  {
   "cell_type": "markdown",
   "id": "460a46d0",
   "metadata": {},
   "source": [
    "Endpoint para a buscar de consultas por ID (Metodo GET)"
   ]
  },
  {
   "cell_type": "code",
   "execution_count": 12,
   "id": "49db9e9e",
   "metadata": {},
   "outputs": [
    {
     "name": "stdout",
     "output_type": "stream",
     "text": [
      "Status: 200\n",
      "{'data_consulta': '2025-06-10', 'horario': '14:30', 'id': 1, 'medico_id': 1, 'paciente_id': 1}\n"
     ]
    }
   ],
   "source": [
    "import requests\n",
    "\n",
    "url = \"http://localhost:5000/consultas/1\"\n",
    "response = requests.get(url)\n",
    "\n",
    "print(\"Status:\", response.status_code)\n",
    "print(response.json())"
   ]
  },
  {
   "cell_type": "markdown",
   "id": "1a685b91",
   "metadata": {},
   "source": [
    "Endpoint para listagem de tratamentos (Metodo GET)"
   ]
  },
  {
   "cell_type": "code",
   "execution_count": null,
   "id": "3361fb8d",
   "metadata": {},
   "outputs": [
    {
     "name": "stdout",
     "output_type": "stream",
     "text": [
      "Status: 200\n",
      "Resposta: [{'consulta_id': 1, 'data_fim': '2025-06-17', 'data_inicio': '2025-06-10', 'descricao': 'Tratamento para dor de cabeça', 'id': 1}, {'consulta_id': 1, 'data_fim': '2025-06-17', 'data_inicio': '2025-06-10', 'descricao': 'Tratamento para dor de cabeça', 'id': 2}, {'consulta_id': 1, 'data_fim': '2025-10-24', 'data_inicio': '2025-10-12', 'descricao': 'tomar dipirona para a dor de cabeca', 'id': 3}, {'consulta_id': 2, 'data_fim': '2025-07-30', 'data_inicio': '2025-07-12', 'descricao': 'Tratamento de dermatomicose', 'id': 4}, {'consulta_id': 3, 'data_fim': '2025-07-07', 'data_inicio': '2025-06-12', 'descricao': 'Tratamento de dor no abdomen', 'id': 5}]\n"
     ]
    }
   ],
   "source": [
    "import requests\n",
    "\n",
    "url = \"http://localhost:5000/tratamentos\"\n",
    "response = requests.get(url)\n",
    "\n",
    "print(\"Status:\", response.status_code)\n",
    "print(\"Resposta:\", response.json())"
   ]
  },
  {
   "cell_type": "markdown",
   "id": "a8fa38f7",
   "metadata": {},
   "source": [
    "Endpoint para busca de tratamentos por ID (metodo GET)"
   ]
  },
  {
   "cell_type": "code",
   "execution_count": null,
   "id": "7d5c2dae",
   "metadata": {},
   "outputs": [
    {
     "name": "stdout",
     "output_type": "stream",
     "text": [
      "Status: 200\n",
      "Resposta: {'consulta_id': 1, 'data_fim': '2025-06-17', 'data_inicio': '2025-06-10', 'descricao': 'Tratamento para dor de cabeça', 'id': 1}\n"
     ]
    }
   ],
   "source": [
    "import requests\n",
    "\n",
    "url = \"http://localhost:5000/tratamentos/1\"\n",
    "response = requests.get(url)\n",
    "\n",
    "print(\"Status:\", response.status_code)\n",
    "print(\"Resposta:\", response.json())"
   ]
  },
  {
   "cell_type": "markdown",
   "id": "cd74c288",
   "metadata": {},
   "source": [
    "Endpoint para listagem dos medicamentos (metodo GET)"
   ]
  },
  {
   "cell_type": "code",
   "execution_count": null,
   "id": "a54941f5",
   "metadata": {},
   "outputs": [
    {
     "name": "stdout",
     "output_type": "stream",
     "text": [
      "Status: 200\n",
      "Resposta: [{'dosagem': 20.0, 'forma_apresentacao': 'Comprimido', 'id': 1, 'nome': 'itraconazol', 'qtd_estoque': 10}, {'dosagem': 20.0, 'forma_apresentacao': 'Comprimido', 'id': 2, 'nome': 'buscopan', 'qtd_estoque': 20}, {'dosagem': 10.0, 'forma_apresentacao': 'Comprimido', 'id': 3, 'nome': 'loratadina', 'qtd_estoque': 15}, {'dosagem': 10.0, 'forma_apresentacao': 'Comprimido', 'id': 4, 'nome': 'dipirona', 'qtd_estoque': 10}]\n"
     ]
    }
   ],
   "source": [
    "import requests\n",
    "\n",
    "url = \"http://localhost:5000/medicamentos\"\n",
    "response = requests.get(url)\n",
    "\n",
    "print(\"Status:\", response.status_code)\n",
    "print(\"Resposta:\", response.json())"
   ]
  },
  {
   "cell_type": "markdown",
   "id": "edd9e368",
   "metadata": {},
   "source": [
    "Endpoint para busca de tratamentos por iD (metodo GET)"
   ]
  },
  {
   "cell_type": "code",
   "execution_count": null,
   "id": "db05321a",
   "metadata": {},
   "outputs": [
    {
     "name": "stdout",
     "output_type": "stream",
     "text": [
      "Status: 200\n",
      "Resposta: {'consulta_id': 1, 'data_fim': '2025-06-17', 'data_inicio': '2025-06-10', 'descricao': 'Tratamento para dor de cabeça', 'id': 1}\n"
     ]
    }
   ],
   "source": [
    "import requests\n",
    "\n",
    "url = \"http://localhost:5000/tratamentos/1\"\n",
    "response = requests.get(url)\n",
    "\n",
    "print(\"Status:\", response.status_code)\n",
    "print(\"Resposta:\", response.json())"
   ]
  },
  {
   "cell_type": "markdown",
   "id": "f4b681c5",
   "metadata": {},
   "source": [
    "Endpoint para listagem de posologias (metodo GET)"
   ]
  },
  {
   "cell_type": "code",
   "execution_count": null,
   "id": "f6b0ad18",
   "metadata": {},
   "outputs": [
    {
     "name": "stdout",
     "output_type": "stream",
     "text": [
      "Status: 200\n",
      "Resposta: []\n"
     ]
    }
   ],
   "source": [
    "import requests\n",
    "\n",
    "url = \"http://localhost:5000/posologias\"\n",
    "response = requests.get(url)\n",
    "\n",
    "print(\"Status:\", response.status_code)\n",
    "print(\"Resposta:\", response.json())"
   ]
  },
  {
   "cell_type": "markdown",
   "id": "f49ed7f5",
   "metadata": {},
   "source": [
    "Endpoint de listagem de posologias pelo ID (Metodo GET)"
   ]
  },
  {
   "cell_type": "code",
   "execution_count": 10,
   "id": "4ef993be",
   "metadata": {},
   "outputs": [
    {
     "name": "stdout",
     "output_type": "stream",
     "text": [
      "Status: 200\n",
      "Resposta: {'id': 3, 'medicamento_id': 1, 'qtd_utilizada': 1, 'receita': 'tomar 1 comprimido a cada 6 horas por 7 dias', 'tratamento_id': 2}\n"
     ]
    }
   ],
   "source": [
    "import requests\n",
    "\n",
    "url = \"http://localhost:5000/posologias/3\"\n",
    "response = requests.get(url)\n",
    "\n",
    "print(\"Status:\", response.status_code)\n",
    "print(\"Resposta:\", response.json())"
   ]
  },
  {
   "cell_type": "markdown",
   "id": "fbf0bd9f",
   "metadata": {},
   "source": [
    "Endpoint para incerir um novo paciente (metodo POST)"
   ]
  },
  {
   "cell_type": "code",
   "execution_count": 65,
   "id": "a32c07f1",
   "metadata": {},
   "outputs": [
    {
     "name": "stdout",
     "output_type": "stream",
     "text": [
      "Status: 201\n",
      "Resposta: {'cpf': '12345678908', 'data_nascimento': '1998-12-14', 'id': 7, 'nome': 'João da Silva Silveira', 'prontuario': 'queixas de dor na perna', 'telefone': '24998989797', 'tipo': 'paciente'}\n"
     ]
    }
   ],
   "source": [
    "import requests\n",
    "\n",
    "url = \"http://localhost:5000/pacientes\"\n",
    "dados = {\n",
    "    \"nome\": \"João da Silva Silveira\",\n",
    "    \"cpf\": \"12345678908\",\n",
    "    \"data_nascimento\": \"1998-12-14\",\n",
    "    \"telefone\": \"24998989797\",\n",
    "    \"prontuario\": \"queixas de dor na perna\",\n",
    "    \"tipo\": \"paciente\"\n",
    "}\n",
    "\n",
    "response = requests.post(url, json=dados)\n",
    "\n",
    "print(\"Status:\", response.status_code)\n",
    "print(\"Resposta:\", response.json())"
   ]
  },
  {
   "cell_type": "markdown",
   "id": "51f48c47",
   "metadata": {},
   "source": [
    "Endpoint para postagem de um novo medico (método POST)"
   ]
  },
  {
   "cell_type": "code",
   "execution_count": 66,
   "id": "f3648fe2",
   "metadata": {},
   "outputs": [
    {
     "name": "stdout",
     "output_type": "stream",
     "text": [
      "Status: 201\n",
      "Resposta: {'cpf': '12345676912', 'crm': '134781', 'data_nascimento': '1998-11-14', 'especialidade_id': 2, 'id': 7, 'nome': 'João Savior', 'telefone': '24998789716', 'tipo': 'medico'}\n"
     ]
    }
   ],
   "source": [
    "import requests\n",
    "\n",
    "url = \"http://localhost:5000/medicos\"\n",
    "dados = {\n",
    "    \"nome\": \"João Savior\",\n",
    "    \"cpf\": \"12345676912\",\n",
    "    \"data_nascimento\": \"1998-11-14\",\n",
    "    \"telefone\": \"24998789716\",\n",
    "    \"crm\": \"134781\",\n",
    "    \"especialidade_id\": \"2\",\n",
    "    \"tipo\": \"medico\"\n",
    "}\n",
    "\n",
    "response = requests.post(url, json=dados)\n",
    "\n",
    "print(\"Status:\", response.status_code)\n",
    "print(\"Resposta:\", response.json())"
   ]
  },
  {
   "cell_type": "markdown",
   "id": "60b54dd5",
   "metadata": {},
   "source": [
    "Endpoint para postagem de uma nova consulta (Metodo POST)"
   ]
  },
  {
   "cell_type": "code",
   "execution_count": 44,
   "id": "81ed454c",
   "metadata": {},
   "outputs": [
    {
     "name": "stdout",
     "output_type": "stream",
     "text": [
      "Status: 201\n",
      "Resposta: {'data_consulta': '2025-06-14', 'horario': '10:00', 'id': 6, 'medico_id': 5, 'paciente_id': 4}\n"
     ]
    }
   ],
   "source": [
    "import requests\n",
    "\n",
    "url = \"http://localhost:5000/consultas\"\n",
    "dados = {\n",
    "    \"paciente_id\": \"4\",\n",
    "    \"medico_id\": \"5\",\n",
    "    \"data_consulta\": \"2025-06-14\",\n",
    "    \"horario\": \"10:00\"\n",
    "}\n",
    "\n",
    "response = requests.post(url, json=dados)\n",
    "\n",
    "print(\"Status:\", response.status_code)\n",
    "print(\"Resposta:\", response.json())"
   ]
  },
  {
   "cell_type": "markdown",
   "id": "293885bd",
   "metadata": {},
   "source": [
    "Endpoint para a postagem de um novo tratamento (metodo POST)"
   ]
  },
  {
   "cell_type": "code",
   "execution_count": 45,
   "id": "c16e95c8",
   "metadata": {},
   "outputs": [
    {
     "name": "stdout",
     "output_type": "stream",
     "text": [
      "Status: 201\n",
      "Resposta: {'consulta_id': 4, 'data_fim': '2025-06-17', 'data_inicio': '2025-06-10', 'descricao': 'Tratamento para dor na lombar', 'id': 6}\n"
     ]
    }
   ],
   "source": [
    "import requests\n",
    "\n",
    "url = \"http://localhost:5000/tratamentos\"\n",
    "dados = {\n",
    "    \"consulta_id\": 4,\n",
    "    \"data_fim\": \"2025-06-17\",\n",
    "    \"data_inicio\": \"2025-06-10\",\n",
    "    \"descricao\": \"Tratamento para dor na lombar\",\n",
    "}\n",
    "\n",
    "response = requests.post(url, json=dados)\n",
    "\n",
    "print(\"Status:\", response.status_code)\n",
    "print(\"Resposta:\", response.json())\n",
    "\n"
   ]
  },
  {
   "cell_type": "markdown",
   "id": "d4fabda1",
   "metadata": {},
   "source": [
    "Endpoint para criação de um novo medicamento (metodo POST)"
   ]
  },
  {
   "cell_type": "code",
   "execution_count": 49,
   "id": "837b09fc",
   "metadata": {},
   "outputs": [
    {
     "name": "stdout",
     "output_type": "stream",
     "text": [
      "Status: 201\n",
      "Resposta: {'dosagem': 10.0, 'forma_apresentacao': 'xarope', 'id': 6, 'nome': 'vick vaporube', 'qtd_estoque': 5}\n"
     ]
    }
   ],
   "source": [
    "import requests\n",
    "\n",
    "url = \"http://localhost:5000/medicamentos\"\n",
    "dados = {\n",
    "   \"dosagem\": 10.0,\n",
    "   \"forma_apresentacao\": \"xarope\",\n",
    "   \"nome\": \"vick vaporube\",\n",
    "   \"qtd_estoque\": 5\n",
    "}\n",
    "\n",
    "response = requests.post(url, json=dados)\n",
    "\n",
    "print(\"Status:\", response.status_code)\n",
    "print(\"Resposta:\", response.json())"
   ]
  },
  {
   "cell_type": "markdown",
   "id": "70e6054b",
   "metadata": {},
   "source": [
    "Endpoint para postar uma nova posologia (Método POST)"
   ]
  },
  {
   "cell_type": "code",
   "execution_count": 20,
   "id": "c62d82de",
   "metadata": {},
   "outputs": [
    {
     "name": "stdout",
     "output_type": "stream",
     "text": [
      "Status: 201\n",
      "Resposta: {'id': 7, 'medicamento_id': 2, 'qtd_utilizada': 1, 'receita': 'tomar 1 comprimido a cada 6 horas por 7 dias', 'tratamento_id': 3}\n"
     ]
    }
   ],
   "source": [
    "import requests\n",
    "\n",
    "url = \"http://localhost:5000/posologias\"\n",
    "dados = {\n",
    "   \"medicamento_id\": 2,\n",
    "   \"tratamento_id\": 3,\n",
    "   \"receita\": \"tomar 1 comprimido a cada 6 horas por 7 dias\",\n",
    "   \"qtd_utilizada\": 1\n",
    "}\n",
    "\n",
    "response = requests.post(url, json=dados)\n",
    "\n",
    "print(\"Status:\", response.status_code)\n",
    "print(\"Resposta:\", response.json())"
   ]
  },
  {
   "cell_type": "markdown",
   "id": "a6fe97ba",
   "metadata": {},
   "source": [
    "Endpoint para editar um paciente (Método PUT-Por ID)"
   ]
  },
  {
   "cell_type": "code",
   "execution_count": 51,
   "id": "487cbe50",
   "metadata": {},
   "outputs": [
    {
     "name": "stdout",
     "output_type": "stream",
     "text": [
      "200\n",
      "{'cpf': '12345678901', 'data_nascimento': '1990-01-03', 'id': 1, 'nome': 'Joao Teixeira', 'prontuario': 'queixas de dor de cabeca intensa', 'telefone': '11999999996', 'tipo': 'paciente'}\n"
     ]
    }
   ],
   "source": [
    "url = \"http://localhost:5000/pacientes/1\"\n",
    "dados_atualizados = {\n",
    "    \"cpf\": \"12345678901\",\n",
    "    \"data_nascimento\": \"1990-01-03\",\n",
    "    \"nome\": \"Joao Teixeira\",\n",
    "    \"prontuario\": \"queixas de dor de cabeca intensa\",\n",
    "    \"telefone\": \"11999999996\",\n",
    "}\n",
    "\n",
    "response = requests.put(url, json=dados_atualizados)\n",
    "\n",
    "print(response.status_code)\n",
    "print(response.json())"
   ]
  },
  {
   "cell_type": "markdown",
   "id": "2584472c",
   "metadata": {},
   "source": [
    "Endpoint para editar um medico (metodo PUT- Por ID)"
   ]
  },
  {
   "cell_type": "code",
   "execution_count": 52,
   "id": "0b0ad84b",
   "metadata": {},
   "outputs": [
    {
     "name": "stdout",
     "output_type": "stream",
     "text": [
      "200\n",
      "{'cpf': '12345678911', 'crm': 'CRM12345', 'data_nascimento': '1990-01-04', 'especialidade_id': 2, 'id': 1, 'nome': 'Dra Ana Matias', 'telefone': '11999959996', 'tipo': 'medico'}\n"
     ]
    }
   ],
   "source": [
    "url = \"http://localhost:5000/medicos/1\"\n",
    "dados_atualizados = {\n",
    "    \"cpf\": \"12345678911\",\n",
    "    \"data_nascimento\": \"1990-01-04\",\n",
    "    \"nome\": \"Dra Ana Matias\",\n",
    "    \"telefone\": \"11999959996\",\n",
    "    \"CRM\": \"21167\"\n",
    "}\n",
    "\n",
    "response = requests.put(url, json=dados_atualizados)\n",
    "\n",
    "print(response.status_code)\n",
    "print(response.json())"
   ]
  },
  {
   "cell_type": "markdown",
   "id": "d1a714a2",
   "metadata": {},
   "source": [
    "Endpoint para edição de consultas (Metodo PUT- Por ID)"
   ]
  },
  {
   "cell_type": "code",
   "execution_count": 18,
   "id": "8863c545",
   "metadata": {},
   "outputs": [
    {
     "name": "stdout",
     "output_type": "stream",
     "text": [
      "200\n",
      "{'data_consulta': '2025-10-26', 'horario': '15:10', 'id': 2, 'medico_id': 3, 'paciente_id': 2}\n"
     ]
    }
   ],
   "source": [
    "import requests\n",
    "\n",
    "url = \"http://localhost:5000/consultas/2\"\n",
    "dados_atualizados = {\n",
    "    \"data_consulta\": \"2025-10-26\",\n",
    "    \"horario\": \"15:10\",\n",
    "    \"medico_id\": 3,\n",
    "    \"paciente_id\": 2\n",
    "}\n",
    "\n",
    "response = requests.put(url, json=dados_atualizados)\n",
    "\n",
    "print(response.status_code)\n",
    "print(response.json())"
   ]
  },
  {
   "cell_type": "markdown",
   "id": "16e10ac6",
   "metadata": {},
   "source": [
    "Endpoint para edição de tratamento (metodo PUT - Por ID)"
   ]
  },
  {
   "cell_type": "code",
   "execution_count": 55,
   "id": "0447dcde",
   "metadata": {},
   "outputs": [
    {
     "name": "stdout",
     "output_type": "stream",
     "text": [
      "200\n",
      "{'consulta_id': 3, 'data_fim': '2025-07-01', 'data_inicio': '2025-06-12', 'descricao': 'Tratamento de dor no abdomen', 'id': 1}\n"
     ]
    }
   ],
   "source": [
    "url = \"http://localhost:5000/tratamentos/1\"\n",
    "dados_atualizados = {\n",
    "    \"consulta_id\": 3,\n",
    "    \"data_fim\": \"2025-07-01\",\n",
    "    \"data_inicio\": \"2025-06-12\",\n",
    "    \"descricao\": \"Tratamento de dor no abdomen\",\n",
    "}\n",
    "\n",
    "response = requests.put(url, json=dados_atualizados)\n",
    "\n",
    "print(response.status_code)\n",
    "print(response.json())"
   ]
  },
  {
   "cell_type": "markdown",
   "id": "74a8fb99",
   "metadata": {},
   "source": [
    "Endpoint para edição de Medicamentos (Metodo PUT - por ID)"
   ]
  },
  {
   "cell_type": "code",
   "execution_count": 56,
   "id": "45762f82",
   "metadata": {},
   "outputs": [
    {
     "name": "stdout",
     "output_type": "stream",
     "text": [
      "200\n",
      "{'dosagem': 5.0, 'forma_apresentacao': 'xarope', 'id': 1, 'nome': 'vick vaporube', 'qtd_estoque': 7}\n"
     ]
    }
   ],
   "source": [
    "url = \"http://localhost:5000/medicamentos/1\"\n",
    "dados_atualizados = {\n",
    "    \"dosagem\": 5.0,\n",
    "    \"forma_apresentacao\": \"xarope\",\n",
    "    \"nome\": \"vick vaporube\",\n",
    "    \"qtd_estoque\": 7\n",
    "}\n",
    "\n",
    "response = requests.put(url, json=dados_atualizados)\n",
    "\n",
    "print(response.status_code)\n",
    "print(response.json())"
   ]
  },
  {
   "cell_type": "markdown",
   "id": "f7d52923",
   "metadata": {},
   "source": [
    "Endpoint para edição das posologias (metodo PUT-por ID)"
   ]
  },
  {
   "cell_type": "code",
   "execution_count": 17,
   "id": "c47fa7f6",
   "metadata": {},
   "outputs": [
    {
     "name": "stdout",
     "output_type": "stream",
     "text": [
      "200\n",
      "{'id': 3, 'medicamento_id': 1, 'qtd_utilizada': 1, 'receita': 'tomar 1 comprimido a cada 6 horas por 7 dias', 'tratamento_id': 2}\n"
     ]
    }
   ],
   "source": [
    "url = \"http://localhost:5000/posologias/3\"\n",
    "dados_atualizados = {\n",
    "    \"medicamento_id\": 1,\n",
    "    \"tratamento_id\": 2,\n",
    "    \"receita\": \"tomar 1 comprimido a cada 6 horas por 7 dias\",\n",
    "    \"qtd_utilizada\": 1\n",
    "}\n",
    "\n",
    "response = requests.put(url, json=dados_atualizados)\n",
    "\n",
    "print(response.status_code)\n",
    "print(response.json())"
   ]
  },
  {
   "cell_type": "markdown",
   "id": "3b9e9180",
   "metadata": {},
   "source": [
    "Endpoint para deletar um paciente (metodo DELETE - por ID)"
   ]
  },
  {
   "cell_type": "code",
   "execution_count": 67,
   "id": "857c4ef6",
   "metadata": {},
   "outputs": [
    {
     "name": "stdout",
     "output_type": "stream",
     "text": [
      "Status: 200\n",
      "Resposta: {\n",
      "  \"mensagem\": \"Deletado com sucesso\"\n",
      "}\n",
      "\n"
     ]
    }
   ],
   "source": [
    "url = \"http://localhost:5000/pacientes/5\"\n",
    "\n",
    "response = requests.delete(url)\n",
    "\n",
    "print(\"Status:\", response.status_code)\n",
    "print(\"Resposta:\", response.text)"
   ]
  },
  {
   "cell_type": "markdown",
   "id": "d606fff9",
   "metadata": {},
   "source": [
    "Endpoint para deletar um medico (metodo DELETE - por ID)"
   ]
  },
  {
   "cell_type": "code",
   "execution_count": 72,
   "id": "037b7d65",
   "metadata": {},
   "outputs": [
    {
     "name": "stdout",
     "output_type": "stream",
     "text": [
      "Status: 200\n",
      "Resposta: {\n",
      "  \"mensagem\": \"Deletado com sucesso\"\n",
      "}\n",
      "\n"
     ]
    }
   ],
   "source": [
    "url = \"http://localhost:5000/medicos/6\"\n",
    "\n",
    "response = requests.delete(url)\n",
    "\n",
    "print(\"Status:\", response.status_code)\n",
    "print(\"Resposta:\", response.text)"
   ]
  },
  {
   "cell_type": "markdown",
   "id": "206b4d9e",
   "metadata": {},
   "source": [
    "Endpoint para deletar uma consulta (metodo DELETE - por ID)"
   ]
  },
  {
   "cell_type": "code",
   "execution_count": 77,
   "id": "dee60e52",
   "metadata": {},
   "outputs": [
    {
     "name": "stdout",
     "output_type": "stream",
     "text": [
      "Status: 200\n",
      "Resposta: {\n",
      "  \"mensagem\": \"Paciente deletado com sucesso\"\n",
      "}\n",
      "\n"
     ]
    }
   ],
   "source": [
    "url = \"http://localhost:5000/consultas/5\"\n",
    "\n",
    "response = requests.delete(url)\n",
    "\n",
    "print(\"Status:\", response.status_code)\n",
    "print(\"Resposta:\", response.text)"
   ]
  },
  {
   "cell_type": "markdown",
   "id": "71a5c882",
   "metadata": {},
   "source": [
    "Endpoint para deletar um tratamento (metodo DELETE - por ID)"
   ]
  },
  {
   "cell_type": "code",
   "execution_count": 78,
   "id": "6907d8e7",
   "metadata": {},
   "outputs": [
    {
     "name": "stdout",
     "output_type": "stream",
     "text": [
      "Status: 200\n",
      "Resposta: {\n",
      "  \"mensagem\": \"Deletado com sucesso\"\n",
      "}\n",
      "\n"
     ]
    }
   ],
   "source": [
    "url = \"http://localhost:5000/tratamentos/5\"\n",
    "\n",
    "response = requests.delete(url)\n",
    "\n",
    "print(\"Status:\", response.status_code)\n",
    "print(\"Resposta:\", response.text)"
   ]
  },
  {
   "cell_type": "markdown",
   "id": "f7d0063e",
   "metadata": {},
   "source": [
    "Endpoint para deletar um medicamento (metodo DELETE - por ID)"
   ]
  },
  {
   "cell_type": "code",
   "execution_count": 84,
   "id": "d97a2256",
   "metadata": {},
   "outputs": [
    {
     "name": "stdout",
     "output_type": "stream",
     "text": [
      "Status: 200\n",
      "Resposta: {\n",
      "  \"mensagem\": \"Deletado com sucesso\"\n",
      "}\n",
      "\n"
     ]
    }
   ],
   "source": [
    "url = \"http://localhost:5000/medicamentos/4\"\n",
    "\n",
    "response = requests.delete(url)\n",
    "\n",
    "print(\"Status:\", response.status_code)\n",
    "print(\"Resposta:\", response.text)"
   ]
  },
  {
   "cell_type": "markdown",
   "id": "1bb4bf33",
   "metadata": {},
   "source": [
    "Endpoint para deletar uma posologia (metodo DELETE - por ID)"
   ]
  },
  {
   "cell_type": "code",
   "execution_count": 13,
   "id": "bc2bb96f",
   "metadata": {},
   "outputs": [
    {
     "name": "stdout",
     "output_type": "stream",
     "text": [
      "Status: 200\n",
      "Resposta: {\n",
      "  \"mensagem\": \"Posologia deletada com sucesso\"\n",
      "}\n",
      "\n"
     ]
    }
   ],
   "source": [
    "url = \"http://localhost:5000/posologias/5\"\n",
    "\n",
    "response = requests.delete(url)\n",
    "\n",
    "print(\"Status:\", response.status_code)\n",
    "print(\"Resposta:\", response.text)"
   ]
  }
 ],
 "metadata": {
  "kernelspec": {
   "display_name": "venv",
   "language": "python",
   "name": "python3"
  },
  "language_info": {
   "codemirror_mode": {
    "name": "ipython",
    "version": 3
   },
   "file_extension": ".py",
   "mimetype": "text/x-python",
   "name": "python",
   "nbconvert_exporter": "python",
   "pygments_lexer": "ipython3",
   "version": "3.12.10"
  }
 },
 "nbformat": 4,
 "nbformat_minor": 5
}
