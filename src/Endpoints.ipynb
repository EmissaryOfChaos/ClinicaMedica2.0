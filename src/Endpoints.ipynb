{
 "cells": [
  {
   "cell_type": "markdown",
   "id": "44451302",
   "metadata": {},
   "source": [
    "Endpoint raiz (metodo GET, retorna a página inicial)"
   ]
  },
  {
   "cell_type": "code",
   "execution_count": null,
   "id": "5b55fe16",
   "metadata": {},
   "outputs": [
    {
     "name": "stdout",
     "output_type": "stream",
     "text": [
      "Status: 200\n",
      "Conteúdo:\n",
      "<h1>Seja bem-vindo à Clínica! 🏥</h1>\n"
     ]
    }
   ],
   "source": [
    "import requests\n",
    "\n",
    "url = \"http://localhost:5000/\" \n",
    "resposta = requests.get(url)\n",
    "\n",
    "print(\"Status:\", resposta.status_code)\n",
    "print(\"Conteúdo:\")\n",
    "print(resposta.text) "
   ]
  },
  {
   "cell_type": "markdown",
   "id": "19c8f9ac",
   "metadata": {},
   "source": [
    "Endpoint para listagem de pacientes (método GET)"
   ]
  },
  {
   "cell_type": "code",
   "execution_count": 19,
   "id": "a5ddbceb",
   "metadata": {},
   "outputs": [
    {
     "name": "stdout",
     "output_type": "stream",
     "text": [
      "Status: 200\n",
      "Resposta: [{'cpf': '12345678900', 'data_nascimento': '1990-01-01', 'id': 1, 'nome': 'João', 'prontuario': 'queixas de dor de cabeça', 'telefone': '11999999999', 'tipo': 'paciente'}, {'cpf': '12395678932', 'data_nascimento': '1980-06-30', 'id': 2, 'nome': 'Vivian Marshall', 'prontuario': 'queixas de dor na lombar', 'telefone': '11979978868', 'tipo': 'paciente'}, {'cpf': '10987654321', 'data_nascimento': '1990-08-15', 'id': 3, 'nome': 'Maria Souza', 'prontuario': 'PRONT123', 'telefone': '21912345678', 'tipo': 'paciente'}]\n"
     ]
    }
   ],
   "source": [
    "url = \"http://localhost:5000//pacientes\"\n",
    "response = requests.get(url)\n",
    "\n",
    "print(\"Status:\", response.status_code)\n",
    "print(\"Resposta:\", response.json())"
   ]
  },
  {
   "cell_type": "markdown",
   "id": "4a9638b4",
   "metadata": {},
   "source": [
    "Endpoint para lbusca de pacientes por ID (método GET)"
   ]
  },
  {
   "cell_type": "code",
   "execution_count": 13,
   "id": "7d9a3e90",
   "metadata": {},
   "outputs": [
    {
     "name": "stdout",
     "output_type": "stream",
     "text": [
      "Status: 200\n",
      "Resposta: {'cpf': '12345678900', 'data_nascimento': '1990-01-01', 'id': 1, 'nome': 'João', 'prontuario': 'queixas de dor de cabeça', 'telefone': '11999999999', 'tipo': 'paciente'}\n"
     ]
    }
   ],
   "source": [
    "url = \"http://localhost:5000/pacientes/1\"\n",
    "response = requests.get(url)\n",
    "\n",
    "print(\"Status:\", response.status_code)\n",
    "print(\"Resposta:\", response.json())"
   ]
  },
  {
   "cell_type": "markdown",
   "id": "988fa78f",
   "metadata": {},
   "source": [
    "Endpoint para listagem de medicos (método GET)"
   ]
  },
  {
   "cell_type": "code",
   "execution_count": 14,
   "id": "554cc037",
   "metadata": {},
   "outputs": [
    {
     "name": "stdout",
     "output_type": "stream",
     "text": [
      "Status: 200\n",
      "Resposta: [{'cpf': '12345678901', 'crm': 'CRM12345', 'data_nascimento': '1980-05-15', 'especialidade_id': 2, 'id': 1, 'nome': 'Dra. Ana Vargas', 'telefone': '11999998888', 'tipo': 'medico'}, {'cpf': '12395678901', 'crm': 'CRM12945', 'data_nascimento': '1980-12-15', 'especialidade_id': 2, 'id': 2, 'nome': 'Dra Carina', 'telefone': '11999978888', 'tipo': 'medico'}, {'cpf': '12395678931', 'crm': 'CRM12985', 'data_nascimento': '1980-12-30', 'especialidade_id': 3, 'id': 3, 'nome': 'Dr Geraldo', 'telefone': '11999978868', 'tipo': 'medico'}, {'cpf': '12345978901', 'crm': 'CRM12845', 'data_nascimento': '1980-05-20', 'especialidade_id': 1, 'id': 5, 'nome': 'Dr. João Silva', 'telefone': '21987654321', 'tipo': 'medico'}]\n"
     ]
    }
   ],
   "source": [
    "url = \"http://localhost:5000/medicos\"\n",
    "response = requests.get(url)\n",
    "\n",
    "print(\"Status:\", response.status_code)\n",
    "print(\"Resposta:\", response.json())"
   ]
  },
  {
   "cell_type": "markdown",
   "id": "a87a3b36",
   "metadata": {},
   "source": [
    "Endpoint para busca de medicos por ID (método GET)"
   ]
  },
  {
   "cell_type": "code",
   "execution_count": 15,
   "id": "7446c716",
   "metadata": {},
   "outputs": [
    {
     "name": "stdout",
     "output_type": "stream",
     "text": [
      "Status: 200\n",
      "Resposta: {'cpf': '12345678901', 'crm': 'CRM12345', 'data_nascimento': '1980-05-15', 'especialidade_id': 2, 'id': 1, 'nome': 'Dra. Ana Vargas', 'telefone': '11999998888', 'tipo': 'medico'}\n"
     ]
    }
   ],
   "source": [
    "url = \"http://localhost:5000/medicos/1\"\n",
    "response = requests.get(url)\n",
    "\n",
    "print(\"Status:\", response.status_code)\n",
    "print(\"Resposta:\", response.json())"
   ]
  },
  {
   "cell_type": "markdown",
   "id": "20669199",
   "metadata": {},
   "source": [
    "Endpoint para listagem de consultas (método GET)"
   ]
  },
  {
   "cell_type": "code",
   "execution_count": 22,
   "id": "e480b65e",
   "metadata": {},
   "outputs": [
    {
     "name": "stdout",
     "output_type": "stream",
     "text": [
      "Status: 200\n",
      "Resposta: [{'data_consulta': '2025-06-10', 'horario': '14:30', 'id': 1, 'medico_id': 1, 'paciente_id': 1}, {'data_consulta': '2025-06-10', 'horario': '14:30', 'id': 2, 'medico_id': 1, 'paciente_id': 1}, {'data_consulta': '2025-11-24', 'horario': '15:00', 'id': 3, 'medico_id': 2, 'paciente_id': 1}, {'data_consulta': '2025-10-24', 'horario': '15:00', 'id': 4, 'medico_id': 3, 'paciente_id': 2}, {'data_consulta': '2025-10-24', 'horario': '15:10', 'id': 5, 'medico_id': 3, 'paciente_id': 2}]\n"
     ]
    }
   ],
   "source": [
    "url = \"http://localhost:5000/consultas\"\n",
    "response = requests.get(url)\n",
    "\n",
    "print(\"Status:\", response.status_code)\n",
    "print(\"Resposta:\", response.json())"
   ]
  },
  {
   "cell_type": "markdown",
   "id": "460a46d0",
   "metadata": {},
   "source": [
    "Endpoint para a buscar de consultas por ID (Metodo GET)"
   ]
  },
  {
   "cell_type": "code",
   "execution_count": null,
   "id": "49db9e9e",
   "metadata": {},
   "outputs": [
    {
     "name": "stdout",
     "output_type": "stream",
     "text": [
      "Status: 200\n",
      "Resposta: [{'data_consulta': '2025-06-10', 'horario': '14:30', 'id': 1, 'medico_id': 1, 'paciente_id': 1}, {'data_consulta': '2025-06-10', 'horario': '14:30', 'id': 2, 'medico_id': 1, 'paciente_id': 1}, {'data_consulta': '2025-11-24', 'horario': '15:00', 'id': 3, 'medico_id': 2, 'paciente_id': 1}, {'data_consulta': '2025-10-24', 'horario': '15:00', 'id': 4, 'medico_id': 3, 'paciente_id': 2}, {'data_consulta': '2025-10-24', 'horario': '15:10', 'id': 5, 'medico_id': 3, 'paciente_id': 2}]\n"
     ]
    }
   ],
   "source": [
    "url = \"http://localhost:5000/consultas/1\"\n",
    "response = requests.get(url)\n",
    "\n",
    "print(\"Status:\", response.status_code)\n",
    "print(\"Resposta:\", response.json())"
   ]
  },
  {
   "cell_type": "markdown",
   "id": "1a685b91",
   "metadata": {},
   "source": [
    "Endpoint para listagem de tratamentos (Metodo GET)"
   ]
  },
  {
   "cell_type": "code",
   "execution_count": 23,
   "id": "3361fb8d",
   "metadata": {},
   "outputs": [
    {
     "name": "stdout",
     "output_type": "stream",
     "text": [
      "Status: 200\n",
      "Resposta: [{'consulta_id': 1, 'data_fim': '2025-06-17', 'data_inicio': '2025-06-10', 'descricao': 'Tratamento para dor de cabeça', 'id': 1}, {'consulta_id': 1, 'data_fim': '2025-06-17', 'data_inicio': '2025-06-10', 'descricao': 'Tratamento para dor de cabeça', 'id': 2}, {'consulta_id': 1, 'data_fim': '2025-10-24', 'data_inicio': '2025-10-12', 'descricao': 'tomar dipirona para a dor de cabeca', 'id': 3}, {'consulta_id': 2, 'data_fim': '2025-07-30', 'data_inicio': '2025-07-12', 'descricao': 'Tratamento de dermatomicose', 'id': 4}, {'consulta_id': 3, 'data_fim': '2025-07-07', 'data_inicio': '2025-06-12', 'descricao': 'Tratamento de dor no abdomen', 'id': 5}]\n"
     ]
    }
   ],
   "source": [
    "url = \"http://localhost:5000/tratamentos\"\n",
    "response = requests.get(url)\n",
    "\n",
    "print(\"Status:\", response.status_code)\n",
    "print(\"Resposta:\", response.json())"
   ]
  },
  {
   "cell_type": "markdown",
   "id": "a8fa38f7",
   "metadata": {},
   "source": [
    "Endpoint para busca de tratamentos por ID (metodo GET)"
   ]
  },
  {
   "cell_type": "code",
   "execution_count": 24,
   "id": "7d5c2dae",
   "metadata": {},
   "outputs": [
    {
     "name": "stdout",
     "output_type": "stream",
     "text": [
      "Status: 200\n",
      "Resposta: {'consulta_id': 1, 'data_fim': '2025-06-17', 'data_inicio': '2025-06-10', 'descricao': 'Tratamento para dor de cabeça', 'id': 1}\n"
     ]
    }
   ],
   "source": [
    "url = \"http://localhost:5000/tratamentos/1\"\n",
    "response = requests.get(url)\n",
    "\n",
    "print(\"Status:\", response.status_code)\n",
    "print(\"Resposta:\", response.json())"
   ]
  },
  {
   "cell_type": "markdown",
   "id": "cd74c288",
   "metadata": {},
   "source": [
    "Endpoint para listagem dos medicamentos (metodo GET)"
   ]
  },
  {
   "cell_type": "code",
   "execution_count": 25,
   "id": "a54941f5",
   "metadata": {},
   "outputs": [
    {
     "name": "stdout",
     "output_type": "stream",
     "text": [
      "Status: 200\n",
      "Resposta: [{'dosagem': 20.0, 'forma_apresentacao': 'Comprimido', 'id': 1, 'nome': 'itraconazol', 'qtd_estoque': 10}, {'dosagem': 20.0, 'forma_apresentacao': 'Comprimido', 'id': 2, 'nome': 'buscopan', 'qtd_estoque': 20}, {'dosagem': 10.0, 'forma_apresentacao': 'Comprimido', 'id': 3, 'nome': 'loratadina', 'qtd_estoque': 15}, {'dosagem': 10.0, 'forma_apresentacao': 'Comprimido', 'id': 4, 'nome': 'dipirona', 'qtd_estoque': 10}]\n"
     ]
    }
   ],
   "source": [
    "url = \"http://localhost:5000/medicamentos\"\n",
    "response = requests.get(url)\n",
    "\n",
    "print(\"Status:\", response.status_code)\n",
    "print(\"Resposta:\", response.json())"
   ]
  },
  {
   "cell_type": "markdown",
   "id": "edd9e368",
   "metadata": {},
   "source": [
    "Endpoint para busca de tratamentos por iD (metodo GET)"
   ]
  },
  {
   "cell_type": "code",
   "execution_count": 26,
   "id": "db05321a",
   "metadata": {},
   "outputs": [
    {
     "name": "stdout",
     "output_type": "stream",
     "text": [
      "Status: 200\n",
      "Resposta: {'consulta_id': 1, 'data_fim': '2025-06-17', 'data_inicio': '2025-06-10', 'descricao': 'Tratamento para dor de cabeça', 'id': 1}\n"
     ]
    }
   ],
   "source": [
    "url = \"http://localhost:5000/tratamentos/1\"\n",
    "response = requests.get(url)\n",
    "\n",
    "print(\"Status:\", response.status_code)\n",
    "print(\"Resposta:\", response.json())"
   ]
  },
  {
   "cell_type": "markdown",
   "id": "f4b681c5",
   "metadata": {},
   "source": [
    "Endpoint para listagem de posologias (metodo GET)"
   ]
  },
  {
   "cell_type": "code",
   "execution_count": 27,
   "id": "f6b0ad18",
   "metadata": {},
   "outputs": [
    {
     "name": "stdout",
     "output_type": "stream",
     "text": [
      "Status: 200\n",
      "Resposta: []\n"
     ]
    }
   ],
   "source": [
    "url = \"http://localhost:5000/posologias\"\n",
    "response = requests.get(url)\n",
    "\n",
    "print(\"Status:\", response.status_code)\n",
    "print(\"Resposta:\", response.json())"
   ]
  },
  {
   "cell_type": "markdown",
   "id": "f49ed7f5",
   "metadata": {},
   "source": [
    "Endpoint de listagem de posologias pelo ID (Metodo GET)"
   ]
  },
  {
   "cell_type": "code",
   "execution_count": null,
   "id": "4ef993be",
   "metadata": {},
   "outputs": [
    {
     "name": "stdout",
     "output_type": "stream",
     "text": [
      "Status: 200\n",
      "Resposta: []\n"
     ]
    }
   ],
   "source": [
    "url = \"http://localhost:5000/posologias/1\"\n",
    "response = requests.get(url)\n",
    "\n",
    "print(\"Status:\", response.status_code)\n",
    "print(\"Resposta:\", response.json())"
   ]
  },
  {
   "cell_type": "markdown",
   "id": "fbf0bd9f",
   "metadata": {},
   "source": [
    "Endpoint para incerir um novo paciente (metodo POST)"
   ]
  },
  {
   "cell_type": "code",
   "execution_count": 65,
   "id": "a32c07f1",
   "metadata": {},
   "outputs": [
    {
     "name": "stdout",
     "output_type": "stream",
     "text": [
      "Status: 201\n",
      "Resposta: {'cpf': '12345678908', 'data_nascimento': '1998-12-14', 'id': 7, 'nome': 'João da Silva Silveira', 'prontuario': 'queixas de dor na perna', 'telefone': '24998989797', 'tipo': 'paciente'}\n"
     ]
    }
   ],
   "source": [
    "import requests\n",
    "\n",
    "url = \"http://localhost:5000/pacientes\"\n",
    "dados = {\n",
    "    \"nome\": \"João da Silva Silveira\",\n",
    "    \"cpf\": \"12345678908\",\n",
    "    \"data_nascimento\": \"1998-12-14\",\n",
    "    \"telefone\": \"24998989797\",\n",
    "    \"prontuario\": \"queixas de dor na perna\",\n",
    "    \"tipo\": \"paciente\"\n",
    "}\n",
    "\n",
    "response = requests.post(url, json=dados)\n",
    "\n",
    "print(\"Status:\", response.status_code)\n",
    "print(\"Resposta:\", response.json())"
   ]
  },
  {
   "cell_type": "markdown",
   "id": "51f48c47",
   "metadata": {},
   "source": [
    "Endpoint para postagem de um novo medico (método POST)"
   ]
  },
  {
   "cell_type": "code",
   "execution_count": 66,
   "id": "f3648fe2",
   "metadata": {},
   "outputs": [
    {
     "name": "stdout",
     "output_type": "stream",
     "text": [
      "Status: 201\n",
      "Resposta: {'cpf': '12345676912', 'crm': '134781', 'data_nascimento': '1998-11-14', 'especialidade_id': 2, 'id': 7, 'nome': 'João Savior', 'telefone': '24998789716', 'tipo': 'medico'}\n"
     ]
    }
   ],
   "source": [
    "import requests\n",
    "\n",
    "url = \"http://localhost:5000/medicos\"\n",
    "dados = {\n",
    "    \"nome\": \"João Savior\",\n",
    "    \"cpf\": \"12345676912\",\n",
    "    \"data_nascimento\": \"1998-11-14\",\n",
    "    \"telefone\": \"24998789716\",\n",
    "    \"crm\": \"134781\",\n",
    "    \"especialidade_id\": \"2\",\n",
    "    \"tipo\": \"medico\"\n",
    "}\n",
    "\n",
    "response = requests.post(url, json=dados)\n",
    "\n",
    "print(\"Status:\", response.status_code)\n",
    "print(\"Resposta:\", response.json())"
   ]
  },
  {
   "cell_type": "markdown",
   "id": "60b54dd5",
   "metadata": {},
   "source": [
    "Endpoint para postagem de uma nova consulta (Metodo POST)"
   ]
  },
  {
   "cell_type": "code",
   "execution_count": 44,
   "id": "81ed454c",
   "metadata": {},
   "outputs": [
    {
     "name": "stdout",
     "output_type": "stream",
     "text": [
      "Status: 201\n",
      "Resposta: {'data_consulta': '2025-06-14', 'horario': '10:00', 'id': 6, 'medico_id': 5, 'paciente_id': 4}\n"
     ]
    }
   ],
   "source": [
    "import requests\n",
    "\n",
    "url = \"http://localhost:5000/consultas\"\n",
    "dados = {\n",
    "    \"paciente_id\": \"4\",\n",
    "    \"medico_id\": \"5\",\n",
    "    \"data_consulta\": \"2025-06-14\",\n",
    "    \"horario\": \"10:00\"\n",
    "}\n",
    "\n",
    "response = requests.post(url, json=dados)\n",
    "\n",
    "print(\"Status:\", response.status_code)\n",
    "print(\"Resposta:\", response.json())"
   ]
  },
  {
   "cell_type": "markdown",
   "id": "293885bd",
   "metadata": {},
   "source": [
    "Endpoint para a postagem de um novo tratamento (metodo POST)"
   ]
  },
  {
   "cell_type": "code",
   "execution_count": 45,
   "id": "c16e95c8",
   "metadata": {},
   "outputs": [
    {
     "name": "stdout",
     "output_type": "stream",
     "text": [
      "Status: 201\n",
      "Resposta: {'consulta_id': 4, 'data_fim': '2025-06-17', 'data_inicio': '2025-06-10', 'descricao': 'Tratamento para dor na lombar', 'id': 6}\n"
     ]
    }
   ],
   "source": [
    "import requests\n",
    "\n",
    "url = \"http://localhost:5000/tratamentos\"\n",
    "dados = {\n",
    "    \"consulta_id\": 4,\n",
    "    \"data_fim\": \"2025-06-17\",\n",
    "    \"data_inicio\": \"2025-06-10\",\n",
    "    \"descricao\": \"Tratamento para dor na lombar\",\n",
    "}\n",
    "\n",
    "response = requests.post(url, json=dados)\n",
    "\n",
    "print(\"Status:\", response.status_code)\n",
    "print(\"Resposta:\", response.json())\n",
    "\n"
   ]
  },
  {
   "cell_type": "markdown",
   "id": "d4fabda1",
   "metadata": {},
   "source": [
    "Endpoint para criação de um novo medicamento (metodo POST)"
   ]
  },
  {
   "cell_type": "code",
   "execution_count": 49,
   "id": "837b09fc",
   "metadata": {},
   "outputs": [
    {
     "name": "stdout",
     "output_type": "stream",
     "text": [
      "Status: 201\n",
      "Resposta: {'dosagem': 10.0, 'forma_apresentacao': 'xarope', 'id': 6, 'nome': 'vick vaporube', 'qtd_estoque': 5}\n"
     ]
    }
   ],
   "source": [
    "import requests\n",
    "\n",
    "url = \"http://localhost:5000/medicamentos\"\n",
    "dados = {\n",
    "   \"dosagem\": 10.0,\n",
    "   \"forma_apresentacao\": \"xarope\",\n",
    "   \"nome\": \"vick vaporube\",\n",
    "   \"qtd_estoque\": 5\n",
    "}\n",
    "\n",
    "response = requests.post(url, json=dados)\n",
    "\n",
    "print(\"Status:\", response.status_code)\n",
    "print(\"Resposta:\", response.json())"
   ]
  },
  {
   "cell_type": "markdown",
   "id": "70e6054b",
   "metadata": {},
   "source": [
    "Endpoint para postar uma nova posologia (Método POST)"
   ]
  },
  {
   "cell_type": "code",
   "execution_count": 50,
   "id": "c62d82de",
   "metadata": {},
   "outputs": [
    {
     "name": "stdout",
     "output_type": "stream",
     "text": [
      "Status: 500\n"
     ]
    },
    {
     "ename": "JSONDecodeError",
     "evalue": "Expecting value: line 1 column 1 (char 0)",
     "output_type": "error",
     "traceback": [
      "\u001b[31m---------------------------------------------------------------------------\u001b[39m",
      "\u001b[31mJSONDecodeError\u001b[39m                           Traceback (most recent call last)",
      "\u001b[36mFile \u001b[39m\u001b[32mc:\\Users\\User\\Documents\\Faculdade\\PAV\\ClinicaMedica 2.0\\Trabalho\\ClinicaMedica\\venv\\Lib\\site-packages\\requests\\models.py:976\u001b[39m, in \u001b[36mResponse.json\u001b[39m\u001b[34m(self, **kwargs)\u001b[39m\n\u001b[32m    975\u001b[39m \u001b[38;5;28;01mtry\u001b[39;00m:\n\u001b[32m--> \u001b[39m\u001b[32m976\u001b[39m     \u001b[38;5;28;01mreturn\u001b[39;00m \u001b[43mcomplexjson\u001b[49m\u001b[43m.\u001b[49m\u001b[43mloads\u001b[49m\u001b[43m(\u001b[49m\u001b[38;5;28;43mself\u001b[39;49m\u001b[43m.\u001b[49m\u001b[43mtext\u001b[49m\u001b[43m,\u001b[49m\u001b[43m \u001b[49m\u001b[43m*\u001b[49m\u001b[43m*\u001b[49m\u001b[43mkwargs\u001b[49m\u001b[43m)\u001b[49m\n\u001b[32m    977\u001b[39m \u001b[38;5;28;01mexcept\u001b[39;00m JSONDecodeError \u001b[38;5;28;01mas\u001b[39;00m e:\n\u001b[32m    978\u001b[39m     \u001b[38;5;66;03m# Catch JSON-related errors and raise as requests.JSONDecodeError\u001b[39;00m\n\u001b[32m    979\u001b[39m     \u001b[38;5;66;03m# This aliases json.JSONDecodeError and simplejson.JSONDecodeError\u001b[39;00m\n",
      "\u001b[36mFile \u001b[39m\u001b[32mC:\\Program Files\\WindowsApps\\PythonSoftwareFoundation.Python.3.12_3.12.2800.0_x64__qbz5n2kfra8p0\\Lib\\json\\__init__.py:346\u001b[39m, in \u001b[36mloads\u001b[39m\u001b[34m(s, cls, object_hook, parse_float, parse_int, parse_constant, object_pairs_hook, **kw)\u001b[39m\n\u001b[32m    343\u001b[39m \u001b[38;5;28;01mif\u001b[39;00m (\u001b[38;5;28mcls\u001b[39m \u001b[38;5;129;01mis\u001b[39;00m \u001b[38;5;28;01mNone\u001b[39;00m \u001b[38;5;129;01mand\u001b[39;00m object_hook \u001b[38;5;129;01mis\u001b[39;00m \u001b[38;5;28;01mNone\u001b[39;00m \u001b[38;5;129;01mand\u001b[39;00m\n\u001b[32m    344\u001b[39m         parse_int \u001b[38;5;129;01mis\u001b[39;00m \u001b[38;5;28;01mNone\u001b[39;00m \u001b[38;5;129;01mand\u001b[39;00m parse_float \u001b[38;5;129;01mis\u001b[39;00m \u001b[38;5;28;01mNone\u001b[39;00m \u001b[38;5;129;01mand\u001b[39;00m\n\u001b[32m    345\u001b[39m         parse_constant \u001b[38;5;129;01mis\u001b[39;00m \u001b[38;5;28;01mNone\u001b[39;00m \u001b[38;5;129;01mand\u001b[39;00m object_pairs_hook \u001b[38;5;129;01mis\u001b[39;00m \u001b[38;5;28;01mNone\u001b[39;00m \u001b[38;5;129;01mand\u001b[39;00m \u001b[38;5;129;01mnot\u001b[39;00m kw):\n\u001b[32m--> \u001b[39m\u001b[32m346\u001b[39m     \u001b[38;5;28;01mreturn\u001b[39;00m \u001b[43m_default_decoder\u001b[49m\u001b[43m.\u001b[49m\u001b[43mdecode\u001b[49m\u001b[43m(\u001b[49m\u001b[43ms\u001b[49m\u001b[43m)\u001b[49m\n\u001b[32m    347\u001b[39m \u001b[38;5;28;01mif\u001b[39;00m \u001b[38;5;28mcls\u001b[39m \u001b[38;5;129;01mis\u001b[39;00m \u001b[38;5;28;01mNone\u001b[39;00m:\n",
      "\u001b[36mFile \u001b[39m\u001b[32mC:\\Program Files\\WindowsApps\\PythonSoftwareFoundation.Python.3.12_3.12.2800.0_x64__qbz5n2kfra8p0\\Lib\\json\\decoder.py:338\u001b[39m, in \u001b[36mJSONDecoder.decode\u001b[39m\u001b[34m(self, s, _w)\u001b[39m\n\u001b[32m    334\u001b[39m \u001b[38;5;250m\u001b[39m\u001b[33;03m\"\"\"Return the Python representation of ``s`` (a ``str`` instance\u001b[39;00m\n\u001b[32m    335\u001b[39m \u001b[33;03mcontaining a JSON document).\u001b[39;00m\n\u001b[32m    336\u001b[39m \n\u001b[32m    337\u001b[39m \u001b[33;03m\"\"\"\u001b[39;00m\n\u001b[32m--> \u001b[39m\u001b[32m338\u001b[39m obj, end = \u001b[38;5;28;43mself\u001b[39;49m\u001b[43m.\u001b[49m\u001b[43mraw_decode\u001b[49m\u001b[43m(\u001b[49m\u001b[43ms\u001b[49m\u001b[43m,\u001b[49m\u001b[43m \u001b[49m\u001b[43midx\u001b[49m\u001b[43m=\u001b[49m\u001b[43m_w\u001b[49m\u001b[43m(\u001b[49m\u001b[43ms\u001b[49m\u001b[43m,\u001b[49m\u001b[43m \u001b[49m\u001b[32;43m0\u001b[39;49m\u001b[43m)\u001b[49m\u001b[43m.\u001b[49m\u001b[43mend\u001b[49m\u001b[43m(\u001b[49m\u001b[43m)\u001b[49m\u001b[43m)\u001b[49m\n\u001b[32m    339\u001b[39m end = _w(s, end).end()\n",
      "\u001b[36mFile \u001b[39m\u001b[32mC:\\Program Files\\WindowsApps\\PythonSoftwareFoundation.Python.3.12_3.12.2800.0_x64__qbz5n2kfra8p0\\Lib\\json\\decoder.py:356\u001b[39m, in \u001b[36mJSONDecoder.raw_decode\u001b[39m\u001b[34m(self, s, idx)\u001b[39m\n\u001b[32m    355\u001b[39m \u001b[38;5;28;01mexcept\u001b[39;00m \u001b[38;5;167;01mStopIteration\u001b[39;00m \u001b[38;5;28;01mas\u001b[39;00m err:\n\u001b[32m--> \u001b[39m\u001b[32m356\u001b[39m     \u001b[38;5;28;01mraise\u001b[39;00m JSONDecodeError(\u001b[33m\"\u001b[39m\u001b[33mExpecting value\u001b[39m\u001b[33m\"\u001b[39m, s, err.value) \u001b[38;5;28;01mfrom\u001b[39;00m\u001b[38;5;250m \u001b[39m\u001b[38;5;28;01mNone\u001b[39;00m\n\u001b[32m    357\u001b[39m \u001b[38;5;28;01mreturn\u001b[39;00m obj, end\n",
      "\u001b[31mJSONDecodeError\u001b[39m: Expecting value: line 1 column 1 (char 0)",
      "\nDuring handling of the above exception, another exception occurred:\n",
      "\u001b[31mJSONDecodeError\u001b[39m                           Traceback (most recent call last)",
      "\u001b[36mCell\u001b[39m\u001b[36m \u001b[39m\u001b[32mIn[50]\u001b[39m\u001b[32m, line 14\u001b[39m\n\u001b[32m     11\u001b[39m response = requests.post(url, json=dados)\n\u001b[32m     13\u001b[39m \u001b[38;5;28mprint\u001b[39m(\u001b[33m\"\u001b[39m\u001b[33mStatus:\u001b[39m\u001b[33m\"\u001b[39m, response.status_code)\n\u001b[32m---> \u001b[39m\u001b[32m14\u001b[39m \u001b[38;5;28mprint\u001b[39m(\u001b[33m\"\u001b[39m\u001b[33mResposta:\u001b[39m\u001b[33m\"\u001b[39m, \u001b[43mresponse\u001b[49m\u001b[43m.\u001b[49m\u001b[43mjson\u001b[49m\u001b[43m(\u001b[49m\u001b[43m)\u001b[49m)\n",
      "\u001b[36mFile \u001b[39m\u001b[32mc:\\Users\\User\\Documents\\Faculdade\\PAV\\ClinicaMedica 2.0\\Trabalho\\ClinicaMedica\\venv\\Lib\\site-packages\\requests\\models.py:980\u001b[39m, in \u001b[36mResponse.json\u001b[39m\u001b[34m(self, **kwargs)\u001b[39m\n\u001b[32m    976\u001b[39m     \u001b[38;5;28;01mreturn\u001b[39;00m complexjson.loads(\u001b[38;5;28mself\u001b[39m.text, **kwargs)\n\u001b[32m    977\u001b[39m \u001b[38;5;28;01mexcept\u001b[39;00m JSONDecodeError \u001b[38;5;28;01mas\u001b[39;00m e:\n\u001b[32m    978\u001b[39m     \u001b[38;5;66;03m# Catch JSON-related errors and raise as requests.JSONDecodeError\u001b[39;00m\n\u001b[32m    979\u001b[39m     \u001b[38;5;66;03m# This aliases json.JSONDecodeError and simplejson.JSONDecodeError\u001b[39;00m\n\u001b[32m--> \u001b[39m\u001b[32m980\u001b[39m     \u001b[38;5;28;01mraise\u001b[39;00m RequestsJSONDecodeError(e.msg, e.doc, e.pos)\n",
      "\u001b[31mJSONDecodeError\u001b[39m: Expecting value: line 1 column 1 (char 0)"
     ]
    }
   ],
   "source": [
    "import requests\n",
    "\n",
    "url = \"http://localhost:5000/posologias\"\n",
    "dados = {\n",
    "   \"medicamento_id\": 2,\n",
    "   \"tratamento_id\": 5,\n",
    "   \"receita\": \"tomar 1 comprimido a cada 6 horas por 7 dias\",\n",
    "   \"qtd_utilizada\": 1\n",
    "}\n",
    "\n",
    "response = requests.post(url, json=dados)\n",
    "\n",
    "print(\"Status:\", response.status_code)\n",
    "print(\"Resposta:\", response.json())"
   ]
  },
  {
   "cell_type": "markdown",
   "id": "a6fe97ba",
   "metadata": {},
   "source": [
    "Endpoint para editar um paciente (Método PUT-Por ID)"
   ]
  },
  {
   "cell_type": "code",
   "execution_count": 51,
   "id": "487cbe50",
   "metadata": {},
   "outputs": [
    {
     "name": "stdout",
     "output_type": "stream",
     "text": [
      "200\n",
      "{'cpf': '12345678901', 'data_nascimento': '1990-01-03', 'id': 1, 'nome': 'Joao Teixeira', 'prontuario': 'queixas de dor de cabeca intensa', 'telefone': '11999999996', 'tipo': 'paciente'}\n"
     ]
    }
   ],
   "source": [
    "url = \"http://localhost:5000/pacientes/1\"\n",
    "dados_atualizados = {\n",
    "    \"cpf\": \"12345678901\",\n",
    "    \"data_nascimento\": \"1990-01-03\",\n",
    "    \"nome\": \"Joao Teixeira\",\n",
    "    \"prontuario\": \"queixas de dor de cabeca intensa\",\n",
    "    \"telefone\": \"11999999996\",\n",
    "}\n",
    "\n",
    "response = requests.put(url, json=dados_atualizados)\n",
    "\n",
    "print(response.status_code)\n",
    "print(response.json())"
   ]
  },
  {
   "cell_type": "markdown",
   "id": "2584472c",
   "metadata": {},
   "source": [
    "Endpoint para editar um medico (metodo PUT- Por ID)"
   ]
  },
  {
   "cell_type": "code",
   "execution_count": 52,
   "id": "0b0ad84b",
   "metadata": {},
   "outputs": [
    {
     "name": "stdout",
     "output_type": "stream",
     "text": [
      "200\n",
      "{'cpf': '12345678911', 'crm': 'CRM12345', 'data_nascimento': '1990-01-04', 'especialidade_id': 2, 'id': 1, 'nome': 'Dra Ana Matias', 'telefone': '11999959996', 'tipo': 'medico'}\n"
     ]
    }
   ],
   "source": [
    "url = \"http://localhost:5000/medicos/1\"\n",
    "dados_atualizados = {\n",
    "    \"cpf\": \"12345678911\",\n",
    "    \"data_nascimento\": \"1990-01-04\",\n",
    "    \"nome\": \"Dra Ana Matias\",\n",
    "    \"telefone\": \"11999959996\",\n",
    "    \"CRM\": \"21167\"\n",
    "}\n",
    "\n",
    "response = requests.put(url, json=dados_atualizados)\n",
    "\n",
    "print(response.status_code)\n",
    "print(response.json())"
   ]
  },
  {
   "cell_type": "markdown",
   "id": "d1a714a2",
   "metadata": {},
   "source": [
    "Endpoint para edição de consultas (Metodo PUT- Por ID)"
   ]
  },
  {
   "cell_type": "code",
   "execution_count": 53,
   "id": "8863c545",
   "metadata": {},
   "outputs": [
    {
     "name": "stdout",
     "output_type": "stream",
     "text": [
      "405\n"
     ]
    },
    {
     "ename": "JSONDecodeError",
     "evalue": "Expecting value: line 1 column 1 (char 0)",
     "output_type": "error",
     "traceback": [
      "\u001b[31m---------------------------------------------------------------------------\u001b[39m",
      "\u001b[31mJSONDecodeError\u001b[39m                           Traceback (most recent call last)",
      "\u001b[36mFile \u001b[39m\u001b[32mc:\\Users\\User\\Documents\\Faculdade\\PAV\\ClinicaMedica 2.0\\Trabalho\\ClinicaMedica\\venv\\Lib\\site-packages\\requests\\models.py:976\u001b[39m, in \u001b[36mResponse.json\u001b[39m\u001b[34m(self, **kwargs)\u001b[39m\n\u001b[32m    975\u001b[39m \u001b[38;5;28;01mtry\u001b[39;00m:\n\u001b[32m--> \u001b[39m\u001b[32m976\u001b[39m     \u001b[38;5;28;01mreturn\u001b[39;00m \u001b[43mcomplexjson\u001b[49m\u001b[43m.\u001b[49m\u001b[43mloads\u001b[49m\u001b[43m(\u001b[49m\u001b[38;5;28;43mself\u001b[39;49m\u001b[43m.\u001b[49m\u001b[43mtext\u001b[49m\u001b[43m,\u001b[49m\u001b[43m \u001b[49m\u001b[43m*\u001b[49m\u001b[43m*\u001b[49m\u001b[43mkwargs\u001b[49m\u001b[43m)\u001b[49m\n\u001b[32m    977\u001b[39m \u001b[38;5;28;01mexcept\u001b[39;00m JSONDecodeError \u001b[38;5;28;01mas\u001b[39;00m e:\n\u001b[32m    978\u001b[39m     \u001b[38;5;66;03m# Catch JSON-related errors and raise as requests.JSONDecodeError\u001b[39;00m\n\u001b[32m    979\u001b[39m     \u001b[38;5;66;03m# This aliases json.JSONDecodeError and simplejson.JSONDecodeError\u001b[39;00m\n",
      "\u001b[36mFile \u001b[39m\u001b[32mC:\\Program Files\\WindowsApps\\PythonSoftwareFoundation.Python.3.12_3.12.2800.0_x64__qbz5n2kfra8p0\\Lib\\json\\__init__.py:346\u001b[39m, in \u001b[36mloads\u001b[39m\u001b[34m(s, cls, object_hook, parse_float, parse_int, parse_constant, object_pairs_hook, **kw)\u001b[39m\n\u001b[32m    343\u001b[39m \u001b[38;5;28;01mif\u001b[39;00m (\u001b[38;5;28mcls\u001b[39m \u001b[38;5;129;01mis\u001b[39;00m \u001b[38;5;28;01mNone\u001b[39;00m \u001b[38;5;129;01mand\u001b[39;00m object_hook \u001b[38;5;129;01mis\u001b[39;00m \u001b[38;5;28;01mNone\u001b[39;00m \u001b[38;5;129;01mand\u001b[39;00m\n\u001b[32m    344\u001b[39m         parse_int \u001b[38;5;129;01mis\u001b[39;00m \u001b[38;5;28;01mNone\u001b[39;00m \u001b[38;5;129;01mand\u001b[39;00m parse_float \u001b[38;5;129;01mis\u001b[39;00m \u001b[38;5;28;01mNone\u001b[39;00m \u001b[38;5;129;01mand\u001b[39;00m\n\u001b[32m    345\u001b[39m         parse_constant \u001b[38;5;129;01mis\u001b[39;00m \u001b[38;5;28;01mNone\u001b[39;00m \u001b[38;5;129;01mand\u001b[39;00m object_pairs_hook \u001b[38;5;129;01mis\u001b[39;00m \u001b[38;5;28;01mNone\u001b[39;00m \u001b[38;5;129;01mand\u001b[39;00m \u001b[38;5;129;01mnot\u001b[39;00m kw):\n\u001b[32m--> \u001b[39m\u001b[32m346\u001b[39m     \u001b[38;5;28;01mreturn\u001b[39;00m \u001b[43m_default_decoder\u001b[49m\u001b[43m.\u001b[49m\u001b[43mdecode\u001b[49m\u001b[43m(\u001b[49m\u001b[43ms\u001b[49m\u001b[43m)\u001b[49m\n\u001b[32m    347\u001b[39m \u001b[38;5;28;01mif\u001b[39;00m \u001b[38;5;28mcls\u001b[39m \u001b[38;5;129;01mis\u001b[39;00m \u001b[38;5;28;01mNone\u001b[39;00m:\n",
      "\u001b[36mFile \u001b[39m\u001b[32mC:\\Program Files\\WindowsApps\\PythonSoftwareFoundation.Python.3.12_3.12.2800.0_x64__qbz5n2kfra8p0\\Lib\\json\\decoder.py:338\u001b[39m, in \u001b[36mJSONDecoder.decode\u001b[39m\u001b[34m(self, s, _w)\u001b[39m\n\u001b[32m    334\u001b[39m \u001b[38;5;250m\u001b[39m\u001b[33;03m\"\"\"Return the Python representation of ``s`` (a ``str`` instance\u001b[39;00m\n\u001b[32m    335\u001b[39m \u001b[33;03mcontaining a JSON document).\u001b[39;00m\n\u001b[32m    336\u001b[39m \n\u001b[32m    337\u001b[39m \u001b[33;03m\"\"\"\u001b[39;00m\n\u001b[32m--> \u001b[39m\u001b[32m338\u001b[39m obj, end = \u001b[38;5;28;43mself\u001b[39;49m\u001b[43m.\u001b[49m\u001b[43mraw_decode\u001b[49m\u001b[43m(\u001b[49m\u001b[43ms\u001b[49m\u001b[43m,\u001b[49m\u001b[43m \u001b[49m\u001b[43midx\u001b[49m\u001b[43m=\u001b[49m\u001b[43m_w\u001b[49m\u001b[43m(\u001b[49m\u001b[43ms\u001b[49m\u001b[43m,\u001b[49m\u001b[43m \u001b[49m\u001b[32;43m0\u001b[39;49m\u001b[43m)\u001b[49m\u001b[43m.\u001b[49m\u001b[43mend\u001b[49m\u001b[43m(\u001b[49m\u001b[43m)\u001b[49m\u001b[43m)\u001b[49m\n\u001b[32m    339\u001b[39m end = _w(s, end).end()\n",
      "\u001b[36mFile \u001b[39m\u001b[32mC:\\Program Files\\WindowsApps\\PythonSoftwareFoundation.Python.3.12_3.12.2800.0_x64__qbz5n2kfra8p0\\Lib\\json\\decoder.py:356\u001b[39m, in \u001b[36mJSONDecoder.raw_decode\u001b[39m\u001b[34m(self, s, idx)\u001b[39m\n\u001b[32m    355\u001b[39m \u001b[38;5;28;01mexcept\u001b[39;00m \u001b[38;5;167;01mStopIteration\u001b[39;00m \u001b[38;5;28;01mas\u001b[39;00m err:\n\u001b[32m--> \u001b[39m\u001b[32m356\u001b[39m     \u001b[38;5;28;01mraise\u001b[39;00m JSONDecodeError(\u001b[33m\"\u001b[39m\u001b[33mExpecting value\u001b[39m\u001b[33m\"\u001b[39m, s, err.value) \u001b[38;5;28;01mfrom\u001b[39;00m\u001b[38;5;250m \u001b[39m\u001b[38;5;28;01mNone\u001b[39;00m\n\u001b[32m    357\u001b[39m \u001b[38;5;28;01mreturn\u001b[39;00m obj, end\n",
      "\u001b[31mJSONDecodeError\u001b[39m: Expecting value: line 1 column 1 (char 0)",
      "\nDuring handling of the above exception, another exception occurred:\n",
      "\u001b[31mJSONDecodeError\u001b[39m                           Traceback (most recent call last)",
      "\u001b[36mCell\u001b[39m\u001b[36m \u001b[39m\u001b[32mIn[53]\u001b[39m\u001b[32m, line 13\u001b[39m\n\u001b[32m     10\u001b[39m response = requests.put(url, json=dados_atualizados)\n\u001b[32m     12\u001b[39m \u001b[38;5;28mprint\u001b[39m(response.status_code)\n\u001b[32m---> \u001b[39m\u001b[32m13\u001b[39m \u001b[38;5;28mprint\u001b[39m(\u001b[43mresponse\u001b[49m\u001b[43m.\u001b[49m\u001b[43mjson\u001b[49m\u001b[43m(\u001b[49m\u001b[43m)\u001b[49m)\n",
      "\u001b[36mFile \u001b[39m\u001b[32mc:\\Users\\User\\Documents\\Faculdade\\PAV\\ClinicaMedica 2.0\\Trabalho\\ClinicaMedica\\venv\\Lib\\site-packages\\requests\\models.py:980\u001b[39m, in \u001b[36mResponse.json\u001b[39m\u001b[34m(self, **kwargs)\u001b[39m\n\u001b[32m    976\u001b[39m     \u001b[38;5;28;01mreturn\u001b[39;00m complexjson.loads(\u001b[38;5;28mself\u001b[39m.text, **kwargs)\n\u001b[32m    977\u001b[39m \u001b[38;5;28;01mexcept\u001b[39;00m JSONDecodeError \u001b[38;5;28;01mas\u001b[39;00m e:\n\u001b[32m    978\u001b[39m     \u001b[38;5;66;03m# Catch JSON-related errors and raise as requests.JSONDecodeError\u001b[39;00m\n\u001b[32m    979\u001b[39m     \u001b[38;5;66;03m# This aliases json.JSONDecodeError and simplejson.JSONDecodeError\u001b[39;00m\n\u001b[32m--> \u001b[39m\u001b[32m980\u001b[39m     \u001b[38;5;28;01mraise\u001b[39;00m RequestsJSONDecodeError(e.msg, e.doc, e.pos)\n",
      "\u001b[31mJSONDecodeError\u001b[39m: Expecting value: line 1 column 1 (char 0)"
     ]
    }
   ],
   "source": [
    "url = \"http://localhost:5000/consultas/1\"\n",
    "dados_atualizados = {\n",
    "    \"data_consulta\": \"2025-10-25\",\n",
    "    \"horario\": \"15:20\",\n",
    "    \"id\": 5,\n",
    "    \"medico_id\": 3,\n",
    "    \"paciente_id\": 2\n",
    "}\n",
    "\n",
    "response = requests.put(url, json=dados_atualizados)\n",
    "\n",
    "print(response.status_code)\n",
    "print(response.json())"
   ]
  },
  {
   "cell_type": "markdown",
   "id": "16e10ac6",
   "metadata": {},
   "source": [
    "Endpoint para edição de tratamento (metodo PUT - Por ID)"
   ]
  },
  {
   "cell_type": "code",
   "execution_count": 55,
   "id": "0447dcde",
   "metadata": {},
   "outputs": [
    {
     "name": "stdout",
     "output_type": "stream",
     "text": [
      "200\n",
      "{'consulta_id': 3, 'data_fim': '2025-07-01', 'data_inicio': '2025-06-12', 'descricao': 'Tratamento de dor no abdomen', 'id': 1}\n"
     ]
    }
   ],
   "source": [
    "url = \"http://localhost:5000/tratamentos/1\"\n",
    "dados_atualizados = {\n",
    "    \"consulta_id\": 3,\n",
    "    \"data_fim\": \"2025-07-01\",\n",
    "    \"data_inicio\": \"2025-06-12\",\n",
    "    \"descricao\": \"Tratamento de dor no abdomen\",\n",
    "}\n",
    "\n",
    "response = requests.put(url, json=dados_atualizados)\n",
    "\n",
    "print(response.status_code)\n",
    "print(response.json())"
   ]
  },
  {
   "cell_type": "markdown",
   "id": "74a8fb99",
   "metadata": {},
   "source": [
    "Endpoint para edição de Medicamentos (Metodo PUT - por ID)"
   ]
  },
  {
   "cell_type": "code",
   "execution_count": 56,
   "id": "45762f82",
   "metadata": {},
   "outputs": [
    {
     "name": "stdout",
     "output_type": "stream",
     "text": [
      "200\n",
      "{'dosagem': 5.0, 'forma_apresentacao': 'xarope', 'id': 1, 'nome': 'vick vaporube', 'qtd_estoque': 7}\n"
     ]
    }
   ],
   "source": [
    "url = \"http://localhost:5000/medicamentos/1\"\n",
    "dados_atualizados = {\n",
    "    \"dosagem\": 5.0,\n",
    "    \"forma_apresentacao\": \"xarope\",\n",
    "    \"nome\": \"vick vaporube\",\n",
    "    \"qtd_estoque\": 7\n",
    "}\n",
    "\n",
    "response = requests.put(url, json=dados_atualizados)\n",
    "\n",
    "print(response.status_code)\n",
    "print(response.json())"
   ]
  },
  {
   "cell_type": "markdown",
   "id": "f7d52923",
   "metadata": {},
   "source": [
    "Endpoint para edição das posologias (metodo PUT-por ID)"
   ]
  },
  {
   "cell_type": "code",
   "execution_count": 58,
   "id": "c47fa7f6",
   "metadata": {},
   "outputs": [
    {
     "name": "stdout",
     "output_type": "stream",
     "text": [
      "405\n"
     ]
    },
    {
     "ename": "JSONDecodeError",
     "evalue": "Expecting value: line 1 column 1 (char 0)",
     "output_type": "error",
     "traceback": [
      "\u001b[31m---------------------------------------------------------------------------\u001b[39m",
      "\u001b[31mJSONDecodeError\u001b[39m                           Traceback (most recent call last)",
      "\u001b[36mFile \u001b[39m\u001b[32mc:\\Users\\User\\Documents\\Faculdade\\PAV\\ClinicaMedica 2.0\\Trabalho\\ClinicaMedica\\venv\\Lib\\site-packages\\requests\\models.py:976\u001b[39m, in \u001b[36mResponse.json\u001b[39m\u001b[34m(self, **kwargs)\u001b[39m\n\u001b[32m    975\u001b[39m \u001b[38;5;28;01mtry\u001b[39;00m:\n\u001b[32m--> \u001b[39m\u001b[32m976\u001b[39m     \u001b[38;5;28;01mreturn\u001b[39;00m \u001b[43mcomplexjson\u001b[49m\u001b[43m.\u001b[49m\u001b[43mloads\u001b[49m\u001b[43m(\u001b[49m\u001b[38;5;28;43mself\u001b[39;49m\u001b[43m.\u001b[49m\u001b[43mtext\u001b[49m\u001b[43m,\u001b[49m\u001b[43m \u001b[49m\u001b[43m*\u001b[49m\u001b[43m*\u001b[49m\u001b[43mkwargs\u001b[49m\u001b[43m)\u001b[49m\n\u001b[32m    977\u001b[39m \u001b[38;5;28;01mexcept\u001b[39;00m JSONDecodeError \u001b[38;5;28;01mas\u001b[39;00m e:\n\u001b[32m    978\u001b[39m     \u001b[38;5;66;03m# Catch JSON-related errors and raise as requests.JSONDecodeError\u001b[39;00m\n\u001b[32m    979\u001b[39m     \u001b[38;5;66;03m# This aliases json.JSONDecodeError and simplejson.JSONDecodeError\u001b[39;00m\n",
      "\u001b[36mFile \u001b[39m\u001b[32mC:\\Program Files\\WindowsApps\\PythonSoftwareFoundation.Python.3.12_3.12.2800.0_x64__qbz5n2kfra8p0\\Lib\\json\\__init__.py:346\u001b[39m, in \u001b[36mloads\u001b[39m\u001b[34m(s, cls, object_hook, parse_float, parse_int, parse_constant, object_pairs_hook, **kw)\u001b[39m\n\u001b[32m    343\u001b[39m \u001b[38;5;28;01mif\u001b[39;00m (\u001b[38;5;28mcls\u001b[39m \u001b[38;5;129;01mis\u001b[39;00m \u001b[38;5;28;01mNone\u001b[39;00m \u001b[38;5;129;01mand\u001b[39;00m object_hook \u001b[38;5;129;01mis\u001b[39;00m \u001b[38;5;28;01mNone\u001b[39;00m \u001b[38;5;129;01mand\u001b[39;00m\n\u001b[32m    344\u001b[39m         parse_int \u001b[38;5;129;01mis\u001b[39;00m \u001b[38;5;28;01mNone\u001b[39;00m \u001b[38;5;129;01mand\u001b[39;00m parse_float \u001b[38;5;129;01mis\u001b[39;00m \u001b[38;5;28;01mNone\u001b[39;00m \u001b[38;5;129;01mand\u001b[39;00m\n\u001b[32m    345\u001b[39m         parse_constant \u001b[38;5;129;01mis\u001b[39;00m \u001b[38;5;28;01mNone\u001b[39;00m \u001b[38;5;129;01mand\u001b[39;00m object_pairs_hook \u001b[38;5;129;01mis\u001b[39;00m \u001b[38;5;28;01mNone\u001b[39;00m \u001b[38;5;129;01mand\u001b[39;00m \u001b[38;5;129;01mnot\u001b[39;00m kw):\n\u001b[32m--> \u001b[39m\u001b[32m346\u001b[39m     \u001b[38;5;28;01mreturn\u001b[39;00m \u001b[43m_default_decoder\u001b[49m\u001b[43m.\u001b[49m\u001b[43mdecode\u001b[49m\u001b[43m(\u001b[49m\u001b[43ms\u001b[49m\u001b[43m)\u001b[49m\n\u001b[32m    347\u001b[39m \u001b[38;5;28;01mif\u001b[39;00m \u001b[38;5;28mcls\u001b[39m \u001b[38;5;129;01mis\u001b[39;00m \u001b[38;5;28;01mNone\u001b[39;00m:\n",
      "\u001b[36mFile \u001b[39m\u001b[32mC:\\Program Files\\WindowsApps\\PythonSoftwareFoundation.Python.3.12_3.12.2800.0_x64__qbz5n2kfra8p0\\Lib\\json\\decoder.py:338\u001b[39m, in \u001b[36mJSONDecoder.decode\u001b[39m\u001b[34m(self, s, _w)\u001b[39m\n\u001b[32m    334\u001b[39m \u001b[38;5;250m\u001b[39m\u001b[33;03m\"\"\"Return the Python representation of ``s`` (a ``str`` instance\u001b[39;00m\n\u001b[32m    335\u001b[39m \u001b[33;03mcontaining a JSON document).\u001b[39;00m\n\u001b[32m    336\u001b[39m \n\u001b[32m    337\u001b[39m \u001b[33;03m\"\"\"\u001b[39;00m\n\u001b[32m--> \u001b[39m\u001b[32m338\u001b[39m obj, end = \u001b[38;5;28;43mself\u001b[39;49m\u001b[43m.\u001b[49m\u001b[43mraw_decode\u001b[49m\u001b[43m(\u001b[49m\u001b[43ms\u001b[49m\u001b[43m,\u001b[49m\u001b[43m \u001b[49m\u001b[43midx\u001b[49m\u001b[43m=\u001b[49m\u001b[43m_w\u001b[49m\u001b[43m(\u001b[49m\u001b[43ms\u001b[49m\u001b[43m,\u001b[49m\u001b[43m \u001b[49m\u001b[32;43m0\u001b[39;49m\u001b[43m)\u001b[49m\u001b[43m.\u001b[49m\u001b[43mend\u001b[49m\u001b[43m(\u001b[49m\u001b[43m)\u001b[49m\u001b[43m)\u001b[49m\n\u001b[32m    339\u001b[39m end = _w(s, end).end()\n",
      "\u001b[36mFile \u001b[39m\u001b[32mC:\\Program Files\\WindowsApps\\PythonSoftwareFoundation.Python.3.12_3.12.2800.0_x64__qbz5n2kfra8p0\\Lib\\json\\decoder.py:356\u001b[39m, in \u001b[36mJSONDecoder.raw_decode\u001b[39m\u001b[34m(self, s, idx)\u001b[39m\n\u001b[32m    355\u001b[39m \u001b[38;5;28;01mexcept\u001b[39;00m \u001b[38;5;167;01mStopIteration\u001b[39;00m \u001b[38;5;28;01mas\u001b[39;00m err:\n\u001b[32m--> \u001b[39m\u001b[32m356\u001b[39m     \u001b[38;5;28;01mraise\u001b[39;00m JSONDecodeError(\u001b[33m\"\u001b[39m\u001b[33mExpecting value\u001b[39m\u001b[33m\"\u001b[39m, s, err.value) \u001b[38;5;28;01mfrom\u001b[39;00m\u001b[38;5;250m \u001b[39m\u001b[38;5;28;01mNone\u001b[39;00m\n\u001b[32m    357\u001b[39m \u001b[38;5;28;01mreturn\u001b[39;00m obj, end\n",
      "\u001b[31mJSONDecodeError\u001b[39m: Expecting value: line 1 column 1 (char 0)",
      "\nDuring handling of the above exception, another exception occurred:\n",
      "\u001b[31mJSONDecodeError\u001b[39m                           Traceback (most recent call last)",
      "\u001b[36mCell\u001b[39m\u001b[36m \u001b[39m\u001b[32mIn[58]\u001b[39m\u001b[32m, line 12\u001b[39m\n\u001b[32m      9\u001b[39m response = requests.put(url, json=dados_atualizados)\n\u001b[32m     11\u001b[39m \u001b[38;5;28mprint\u001b[39m(response.status_code)\n\u001b[32m---> \u001b[39m\u001b[32m12\u001b[39m \u001b[38;5;28mprint\u001b[39m(\u001b[43mresponse\u001b[49m\u001b[43m.\u001b[49m\u001b[43mjson\u001b[49m\u001b[43m(\u001b[49m\u001b[43m)\u001b[49m)\n",
      "\u001b[36mFile \u001b[39m\u001b[32mc:\\Users\\User\\Documents\\Faculdade\\PAV\\ClinicaMedica 2.0\\Trabalho\\ClinicaMedica\\venv\\Lib\\site-packages\\requests\\models.py:980\u001b[39m, in \u001b[36mResponse.json\u001b[39m\u001b[34m(self, **kwargs)\u001b[39m\n\u001b[32m    976\u001b[39m     \u001b[38;5;28;01mreturn\u001b[39;00m complexjson.loads(\u001b[38;5;28mself\u001b[39m.text, **kwargs)\n\u001b[32m    977\u001b[39m \u001b[38;5;28;01mexcept\u001b[39;00m JSONDecodeError \u001b[38;5;28;01mas\u001b[39;00m e:\n\u001b[32m    978\u001b[39m     \u001b[38;5;66;03m# Catch JSON-related errors and raise as requests.JSONDecodeError\u001b[39;00m\n\u001b[32m    979\u001b[39m     \u001b[38;5;66;03m# This aliases json.JSONDecodeError and simplejson.JSONDecodeError\u001b[39;00m\n\u001b[32m--> \u001b[39m\u001b[32m980\u001b[39m     \u001b[38;5;28;01mraise\u001b[39;00m RequestsJSONDecodeError(e.msg, e.doc, e.pos)\n",
      "\u001b[31mJSONDecodeError\u001b[39m: Expecting value: line 1 column 1 (char 0)"
     ]
    }
   ],
   "source": [
    "url = \"http://localhost:5000/posologias/1\"\n",
    "dados_atualizados = {\n",
    "    \"medicamento_id\": 1,\n",
    "    \"tratamento_id\": 5,\n",
    "    \"receita\": \"tomar 1 comprimido a cada 6 horas por 7 dias\",\n",
    "    \"qtd_utilizada\": 1\n",
    "}\n",
    "\n",
    "response = requests.put(url, json=dados_atualizados)\n",
    "\n",
    "print(response.status_code)\n",
    "print(response.json())"
   ]
  },
  {
   "cell_type": "markdown",
   "id": "3b9e9180",
   "metadata": {},
   "source": [
    "Endpoint para deletar um paciente (metodo DELETE - por ID)"
   ]
  },
  {
   "cell_type": "code",
   "execution_count": 67,
   "id": "857c4ef6",
   "metadata": {},
   "outputs": [
    {
     "name": "stdout",
     "output_type": "stream",
     "text": [
      "Status: 200\n",
      "Resposta: {\n",
      "  \"mensagem\": \"Deletado com sucesso\"\n",
      "}\n",
      "\n"
     ]
    }
   ],
   "source": [
    "url = \"http://localhost:5000/pacientes/5\"\n",
    "\n",
    "response = requests.delete(url)\n",
    "\n",
    "print(\"Status:\", response.status_code)\n",
    "print(\"Resposta:\", response.text)"
   ]
  },
  {
   "cell_type": "markdown",
   "id": "d606fff9",
   "metadata": {},
   "source": [
    "Endpoint para deletar um medico (metodo DELETE - por ID)"
   ]
  },
  {
   "cell_type": "code",
   "execution_count": 72,
   "id": "037b7d65",
   "metadata": {},
   "outputs": [
    {
     "name": "stdout",
     "output_type": "stream",
     "text": [
      "Status: 200\n",
      "Resposta: {\n",
      "  \"mensagem\": \"Deletado com sucesso\"\n",
      "}\n",
      "\n"
     ]
    }
   ],
   "source": [
    "url = \"http://localhost:5000/medicos/6\"\n",
    "\n",
    "response = requests.delete(url)\n",
    "\n",
    "print(\"Status:\", response.status_code)\n",
    "print(\"Resposta:\", response.text)"
   ]
  },
  {
   "cell_type": "markdown",
   "id": "206b4d9e",
   "metadata": {},
   "source": [
    "Endpoint para deletar uma consulta (metodo DELETE - por ID)"
   ]
  },
  {
   "cell_type": "code",
   "execution_count": 77,
   "id": "dee60e52",
   "metadata": {},
   "outputs": [
    {
     "name": "stdout",
     "output_type": "stream",
     "text": [
      "Status: 200\n",
      "Resposta: {\n",
      "  \"mensagem\": \"Paciente deletado com sucesso\"\n",
      "}\n",
      "\n"
     ]
    }
   ],
   "source": [
    "url = \"http://localhost:5000/consultas/5\"\n",
    "\n",
    "response = requests.delete(url)\n",
    "\n",
    "print(\"Status:\", response.status_code)\n",
    "print(\"Resposta:\", response.text)"
   ]
  },
  {
   "cell_type": "markdown",
   "id": "71a5c882",
   "metadata": {},
   "source": [
    "Endpoint para deletar um tratamento (metodo DELETE - por ID)"
   ]
  },
  {
   "cell_type": "code",
   "execution_count": 78,
   "id": "6907d8e7",
   "metadata": {},
   "outputs": [
    {
     "name": "stdout",
     "output_type": "stream",
     "text": [
      "Status: 200\n",
      "Resposta: {\n",
      "  \"mensagem\": \"Deletado com sucesso\"\n",
      "}\n",
      "\n"
     ]
    }
   ],
   "source": [
    "url = \"http://localhost:5000/tratamentos/5\"\n",
    "\n",
    "response = requests.delete(url)\n",
    "\n",
    "print(\"Status:\", response.status_code)\n",
    "print(\"Resposta:\", response.text)"
   ]
  },
  {
   "cell_type": "markdown",
   "id": "f7d0063e",
   "metadata": {},
   "source": [
    "Endpoint para deletar um medicamento (metodo DELETE - por ID)"
   ]
  },
  {
   "cell_type": "code",
   "execution_count": 84,
   "id": "d97a2256",
   "metadata": {},
   "outputs": [
    {
     "name": "stdout",
     "output_type": "stream",
     "text": [
      "Status: 200\n",
      "Resposta: {\n",
      "  \"mensagem\": \"Deletado com sucesso\"\n",
      "}\n",
      "\n"
     ]
    }
   ],
   "source": [
    "url = \"http://localhost:5000/medicamentos/4\"\n",
    "\n",
    "response = requests.delete(url)\n",
    "\n",
    "print(\"Status:\", response.status_code)\n",
    "print(\"Resposta:\", response.text)"
   ]
  },
  {
   "cell_type": "markdown",
   "id": "1bb4bf33",
   "metadata": {},
   "source": [
    "Endpoint para deletar uma posologia (metodo DELETE - por ID)"
   ]
  },
  {
   "cell_type": "code",
   "execution_count": 80,
   "id": "bc2bb96f",
   "metadata": {},
   "outputs": [
    {
     "name": "stdout",
     "output_type": "stream",
     "text": [
      "Status: 500\n",
      "Resposta: <!doctype html>\n",
      "<html lang=en>\n",
      "  <head>\n",
      "    <title>TypeError: &#39;NoneType&#39; object is not callable\n",
      " // Werkzeug Debugger</title>\n",
      "    <link rel=\"stylesheet\" href=\"?__debugger__=yes&amp;cmd=resource&amp;f=style.css\">\n",
      "    <link rel=\"shortcut icon\"\n",
      "        href=\"?__debugger__=yes&amp;cmd=resource&amp;f=console.png\">\n",
      "    <script src=\"?__debugger__=yes&amp;cmd=resource&amp;f=debugger.js\"></script>\n",
      "    <script>\n",
      "      var CONSOLE_MODE = false,\n",
      "          EVALEX = true,\n",
      "          EVALEX_TRUSTED = false,\n",
      "          SECRET = \"BYfMgkqTEhtg7UzieeIM\";\n",
      "    </script>\n",
      "  </head>\n",
      "  <body style=\"background-color: #fff\">\n",
      "    <div class=\"debugger\">\n",
      "<h1>TypeError</h1>\n",
      "<div class=\"detail\">\n",
      "  <p class=\"errormsg\">TypeError: &#39;NoneType&#39; object is not callable\n",
      "</p>\n",
      "</div>\n",
      "<h2 class=\"traceback\">Traceback <em>(most recent call last)</em></h2>\n",
      "<div class=\"traceback\">\n",
      "  <h3></h3>\n",
      "  <ul><li><div class=\"frame\" id=\"frame-2696560725584\">\n",
      "  <h4>File <cite class=\"filename\">\"C:\\Users\\User\\Documents\\Faculdade\\PAV\\ClinicaMedica 2.0\\Trabalho\\ClinicaMedica\\venv\\Lib\\site-packages\\flask\\app.py\"</cite>,\n",
      "      line <em class=\"line\">1536</em>,\n",
      "      in <code class=\"function\">__call__</code></h4>\n",
      "  <div class=\"source library\"><pre class=\"line before\"><span class=\"ws\">    </span>) -&gt; cabc.Iterable[bytes]:</pre>\n",
      "<pre class=\"line before\"><span class=\"ws\">        </span>&#34;&#34;&#34;The WSGI server calls the Flask application object as the</pre>\n",
      "<pre class=\"line before\"><span class=\"ws\">        </span>WSGI application. This calls :meth:`wsgi_app`, which can be</pre>\n",
      "<pre class=\"line before\"><span class=\"ws\">        </span>wrapped to apply middleware.</pre>\n",
      "<pre class=\"line before\"><span class=\"ws\">        </span>&#34;&#34;&#34;</pre>\n",
      "<pre class=\"line current\"><span class=\"ws\">        </span>return self.wsgi_app(environ, start_response)\n",
      "<span class=\"ws\">        </span>       ^^^^^^^^^^^^^^^^^^^^^^^^^^^^^^^^^^^^^^</pre></div>\n",
      "</div>\n",
      "\n",
      "<li><div class=\"frame\" id=\"frame-2696560725296\">\n",
      "  <h4>File <cite class=\"filename\">\"C:\\Users\\User\\Documents\\Faculdade\\PAV\\ClinicaMedica 2.0\\Trabalho\\ClinicaMedica\\venv\\Lib\\site-packages\\flask\\app.py\"</cite>,\n",
      "      line <em class=\"line\">1514</em>,\n",
      "      in <code class=\"function\">wsgi_app</code></h4>\n",
      "  <div class=\"source library\"><pre class=\"line before\"><span class=\"ws\">            </span>try:</pre>\n",
      "<pre class=\"line before\"><span class=\"ws\">                </span>ctx.push()</pre>\n",
      "<pre class=\"line before\"><span class=\"ws\">                </span>response = self.full_dispatch_request()</pre>\n",
      "<pre class=\"line before\"><span class=\"ws\">            </span>except Exception as e:</pre>\n",
      "<pre class=\"line before\"><span class=\"ws\">                </span>error = e</pre>\n",
      "<pre class=\"line current\"><span class=\"ws\">                </span>response = self.handle_exception(e)\n",
      "<span class=\"ws\">                </span>           ^^^^^^^^^^^^^^^^^^^^^^^^</pre>\n",
      "<pre class=\"line after\"><span class=\"ws\">            </span>except:  # noqa: B001</pre>\n",
      "<pre class=\"line after\"><span class=\"ws\">                </span>error = sys.exc_info()[1]</pre>\n",
      "<pre class=\"line after\"><span class=\"ws\">                </span>raise</pre>\n",
      "<pre class=\"line after\"><span class=\"ws\">            </span>return response(environ, start_response)</pre>\n",
      "<pre class=\"line after\"><span class=\"ws\">        </span>finally:</pre></div>\n",
      "</div>\n",
      "\n",
      "<li><div class=\"frame\" id=\"frame-2696560724144\">\n",
      "  <h4>File <cite class=\"filename\">\"C:\\Users\\User\\Documents\\Faculdade\\PAV\\ClinicaMedica 2.0\\Trabalho\\ClinicaMedica\\venv\\Lib\\site-packages\\flask_cors\\extension.py\"</cite>,\n",
      "      line <em class=\"line\">176</em>,\n",
      "      in <code class=\"function\">wrapped_function</code></h4>\n",
      "  <div class=\"source library\"><pre class=\"line before\"><span class=\"ws\">        </span># These error handlers will still respect the behavior of the route</pre>\n",
      "<pre class=\"line before\"><span class=\"ws\">        </span>if options.get(&#34;intercept_exceptions&#34;, True):</pre>\n",
      "<pre class=\"line before\"><span class=\"ws\"></span> </pre>\n",
      "<pre class=\"line before\"><span class=\"ws\">            </span>def _after_request_decorator(f):</pre>\n",
      "<pre class=\"line before\"><span class=\"ws\">                </span>def wrapped_function(*args, **kwargs):</pre>\n",
      "<pre class=\"line current\"><span class=\"ws\">                    </span>return cors_after_request(app.make_response(f(*args, **kwargs)))\n",
      "<span class=\"ws\">                    </span>                                            ^^^^^^^^^^^^^^^^^^</pre>\n",
      "<pre class=\"line after\"><span class=\"ws\"></span> </pre>\n",
      "<pre class=\"line after\"><span class=\"ws\">                </span>return wrapped_function</pre>\n",
      "<pre class=\"line after\"><span class=\"ws\"></span> </pre>\n",
      "<pre class=\"line after\"><span class=\"ws\">            </span>if hasattr(app, &#34;handle_exception&#34;):</pre>\n",
      "<pre class=\"line after\"><span class=\"ws\">                </span>app.handle_exception = _after_request_decorator(app.handle_exception)</pre></div>\n",
      "</div>\n",
      "\n",
      "<li><div class=\"frame\" id=\"frame-2696560724720\">\n",
      "  <h4>File <cite class=\"filename\">\"C:\\Users\\User\\Documents\\Faculdade\\PAV\\ClinicaMedica 2.0\\Trabalho\\ClinicaMedica\\venv\\Lib\\site-packages\\flask\\app.py\"</cite>,\n",
      "      line <em class=\"line\">1511</em>,\n",
      "      in <code class=\"function\">wsgi_app</code></h4>\n",
      "  <div class=\"source library\"><pre class=\"line before\"><span class=\"ws\">        </span>ctx = self.request_context(environ)</pre>\n",
      "<pre class=\"line before\"><span class=\"ws\">        </span>error: BaseException | None = None</pre>\n",
      "<pre class=\"line before\"><span class=\"ws\">        </span>try:</pre>\n",
      "<pre class=\"line before\"><span class=\"ws\">            </span>try:</pre>\n",
      "<pre class=\"line before\"><span class=\"ws\">                </span>ctx.push()</pre>\n",
      "<pre class=\"line current\"><span class=\"ws\">                </span>response = self.full_dispatch_request()\n",
      "<span class=\"ws\">                </span>           ^^^^^^^^^^^^^^^^^^^^^^^^^^^^</pre>\n",
      "<pre class=\"line after\"><span class=\"ws\">            </span>except Exception as e:</pre>\n",
      "<pre class=\"line after\"><span class=\"ws\">                </span>error = e</pre>\n",
      "<pre class=\"line after\"><span class=\"ws\">                </span>response = self.handle_exception(e)</pre>\n",
      "<pre class=\"line after\"><span class=\"ws\">            </span>except:  # noqa: B001</pre>\n",
      "<pre class=\"line after\"><span class=\"ws\">                </span>error = sys.exc_info()[1]</pre></div>\n",
      "</div>\n",
      "\n",
      "<li><div class=\"frame\" id=\"frame-2696560727600\">\n",
      "  <h4>File <cite class=\"filename\">\"C:\\Users\\User\\Documents\\Faculdade\\PAV\\ClinicaMedica 2.0\\Trabalho\\ClinicaMedica\\venv\\Lib\\site-packages\\flask\\app.py\"</cite>,\n",
      "      line <em class=\"line\">919</em>,\n",
      "      in <code class=\"function\">full_dispatch_request</code></h4>\n",
      "  <div class=\"source library\"><pre class=\"line before\"><span class=\"ws\">            </span>request_started.send(self, _async_wrapper=self.ensure_sync)</pre>\n",
      "<pre class=\"line before\"><span class=\"ws\">            </span>rv = self.preprocess_request()</pre>\n",
      "<pre class=\"line before\"><span class=\"ws\">            </span>if rv is None:</pre>\n",
      "<pre class=\"line before\"><span class=\"ws\">                </span>rv = self.dispatch_request()</pre>\n",
      "<pre class=\"line before\"><span class=\"ws\">        </span>except Exception as e:</pre>\n",
      "<pre class=\"line current\"><span class=\"ws\">            </span>rv = self.handle_user_exception(e)\n",
      "<span class=\"ws\">            </span>     ^^^^^^^^^^^^^^^^^^^^^^^^^^^^^</pre>\n",
      "<pre class=\"line after\"><span class=\"ws\">        </span>return self.finalize_request(rv)</pre>\n",
      "<pre class=\"line after\"><span class=\"ws\"></span> </pre>\n",
      "<pre class=\"line after\"><span class=\"ws\">    </span>def finalize_request(</pre>\n",
      "<pre class=\"line after\"><span class=\"ws\">        </span>self,</pre>\n",
      "<pre class=\"line after\"><span class=\"ws\">        </span>rv: ft.ResponseReturnValue | HTTPException,</pre></div>\n",
      "</div>\n",
      "\n",
      "<li><div class=\"frame\" id=\"frame-2696560726160\">\n",
      "  <h4>File <cite class=\"filename\">\"C:\\Users\\User\\Documents\\Faculdade\\PAV\\ClinicaMedica 2.0\\Trabalho\\ClinicaMedica\\venv\\Lib\\site-packages\\flask_cors\\extension.py\"</cite>,\n",
      "      line <em class=\"line\">176</em>,\n",
      "      in <code class=\"function\">wrapped_function</code></h4>\n",
      "  <div class=\"source library\"><pre class=\"line before\"><span class=\"ws\">        </span># These error handlers will still respect the behavior of the route</pre>\n",
      "<pre class=\"line before\"><span class=\"ws\">        </span>if options.get(&#34;intercept_exceptions&#34;, True):</pre>\n",
      "<pre class=\"line before\"><span class=\"ws\"></span> </pre>\n",
      "<pre class=\"line before\"><span class=\"ws\">            </span>def _after_request_decorator(f):</pre>\n",
      "<pre class=\"line before\"><span class=\"ws\">                </span>def wrapped_function(*args, **kwargs):</pre>\n",
      "<pre class=\"line current\"><span class=\"ws\">                    </span>return cors_after_request(app.make_response(f(*args, **kwargs)))\n",
      "<span class=\"ws\">                    </span>                                            ^^^^^^^^^^^^^^^^^^</pre>\n",
      "<pre class=\"line after\"><span class=\"ws\"></span> </pre>\n",
      "<pre class=\"line after\"><span class=\"ws\">                </span>return wrapped_function</pre>\n",
      "<pre class=\"line after\"><span class=\"ws\"></span> </pre>\n",
      "<pre class=\"line after\"><span class=\"ws\">            </span>if hasattr(app, &#34;handle_exception&#34;):</pre>\n",
      "<pre class=\"line after\"><span class=\"ws\">                </span>app.handle_exception = _after_request_decorator(app.handle_exception)</pre></div>\n",
      "</div>\n",
      "\n",
      "<li><div class=\"frame\" id=\"frame-2696560725728\">\n",
      "  <h4>File <cite class=\"filename\">\"C:\\Users\\User\\Documents\\Faculdade\\PAV\\ClinicaMedica 2.0\\Trabalho\\ClinicaMedica\\venv\\Lib\\site-packages\\flask\\app.py\"</cite>,\n",
      "      line <em class=\"line\">917</em>,\n",
      "      in <code class=\"function\">full_dispatch_request</code></h4>\n",
      "  <div class=\"source library\"><pre class=\"line before\"><span class=\"ws\"></span> </pre>\n",
      "<pre class=\"line before\"><span class=\"ws\">        </span>try:</pre>\n",
      "<pre class=\"line before\"><span class=\"ws\">            </span>request_started.send(self, _async_wrapper=self.ensure_sync)</pre>\n",
      "<pre class=\"line before\"><span class=\"ws\">            </span>rv = self.preprocess_request()</pre>\n",
      "<pre class=\"line before\"><span class=\"ws\">            </span>if rv is None:</pre>\n",
      "<pre class=\"line current\"><span class=\"ws\">                </span>rv = self.dispatch_request()\n",
      "<span class=\"ws\">                </span>     ^^^^^^^^^^^^^^^^^^^^^^^</pre>\n",
      "<pre class=\"line after\"><span class=\"ws\">        </span>except Exception as e:</pre>\n",
      "<pre class=\"line after\"><span class=\"ws\">            </span>rv = self.handle_user_exception(e)</pre>\n",
      "<pre class=\"line after\"><span class=\"ws\">        </span>return self.finalize_request(rv)</pre>\n",
      "<pre class=\"line after\"><span class=\"ws\"></span> </pre>\n",
      "<pre class=\"line after\"><span class=\"ws\">    </span>def finalize_request(</pre></div>\n",
      "</div>\n",
      "\n",
      "<li><div class=\"frame\" id=\"frame-2696560724576\">\n",
      "  <h4>File <cite class=\"filename\">\"C:\\Users\\User\\Documents\\Faculdade\\PAV\\ClinicaMedica 2.0\\Trabalho\\ClinicaMedica\\venv\\Lib\\site-packages\\flask\\app.py\"</cite>,\n",
      "      line <em class=\"line\">902</em>,\n",
      "      in <code class=\"function\">dispatch_request</code></h4>\n",
      "  <div class=\"source library\"><pre class=\"line before\"><span class=\"ws\">            </span>and req.method == &#34;OPTIONS&#34;</pre>\n",
      "<pre class=\"line before\"><span class=\"ws\">        </span>):</pre>\n",
      "<pre class=\"line before\"><span class=\"ws\">            </span>return self.make_default_options_response()</pre>\n",
      "<pre class=\"line before\"><span class=\"ws\">        </span># otherwise dispatch to the handler for that endpoint</pre>\n",
      "<pre class=\"line before\"><span class=\"ws\">        </span>view_args: dict[str, t.Any] = req.view_args  # type: ignore[assignment]</pre>\n",
      "<pre class=\"line current\"><span class=\"ws\">        </span>return self.ensure_sync(self.view_functions[rule.endpoint])(**view_args)  # type: ignore[no-any-return]\n",
      "<span class=\"ws\">        </span>       ^^^^^^^^^^^^^^^^^^^^^^^^^^^^^^^^^^^^^^^^^^^^^^^^^^^^^^^^^^^^^^^^^</pre>\n",
      "<pre class=\"line after\"><span class=\"ws\"></span> </pre>\n",
      "<pre class=\"line after\"><span class=\"ws\">    </span>def full_dispatch_request(self) -&gt; Response:</pre>\n",
      "<pre class=\"line after\"><span class=\"ws\">        </span>&#34;&#34;&#34;Dispatches the request and on top of that performs request</pre>\n",
      "<pre class=\"line after\"><span class=\"ws\">        </span>pre and postprocessing as well as HTTP exception catching and</pre>\n",
      "<pre class=\"line after\"><span class=\"ws\">        </span>error handling.</pre></div>\n",
      "</div>\n",
      "\n",
      "<li><div class=\"frame\" id=\"frame-2696560725008\">\n",
      "  <h4>File <cite class=\"filename\">\"C:\\Users\\User\\Documents\\Faculdade\\PAV\\ClinicaMedica 2.0\\Trabalho\\ClinicaMedica\\src\\routes\\posologia_route.py\"</cite>,\n",
      "      line <em class=\"line\">42</em>,\n",
      "      in <code class=\"function\">deletar_posologia</code></h4>\n",
      "  <div class=\"source \"><pre class=\"line before\"><span class=\"ws\">        </span>session.close()</pre>\n",
      "<pre class=\"line before\"><span class=\"ws\">        </span>return jsonify({&#34;erro&#34;: str(e)}), 400</pre>\n",
      "<pre class=\"line before\"><span class=\"ws\"></span> </pre>\n",
      "<pre class=\"line before\"><span class=\"ws\"></span>@posologia_bp.route(&#34;/&lt;int:entity_id&gt;&#34;, methods=[&#34;DELETE&#34;])</pre>\n",
      "<pre class=\"line before\"><span class=\"ws\"></span>def deletar_posologia(entity_id):</pre>\n",
      "<pre class=\"line current\"><span class=\"ws\">    </span>session = SessionLocal()\n",
      "<span class=\"ws\">    </span>          ^^^^^^^^^^^^^^</pre>\n",
      "<pre class=\"line after\"><span class=\"ws\">    </span>service = PosologiaService(session)</pre>\n",
      "<pre class=\"line after\"><span class=\"ws\">    </span>posologia = service.deletar(entity_id)</pre>\n",
      "<pre class=\"line after\"><span class=\"ws\">    </span>session.close()</pre>\n",
      "<pre class=\"line after\"><span class=\"ws\">    </span>if posologia:</pre>\n",
      "<pre class=\"line after\"><span class=\"ws\">        </span>return jsonify({&#34;mensagem&#34;: &#34;Posologia deletada&#34;})</pre></div>\n",
      "</div>\n",
      "</ul>\n",
      "  <blockquote>TypeError: &#39;NoneType&#39; object is not callable\n",
      "</blockquote>\n",
      "</div>\n",
      "\n",
      "<div class=\"plain\">\n",
      "    <p>\n",
      "      This is the Copy/Paste friendly version of the traceback.\n",
      "    </p>\n",
      "    <textarea cols=\"50\" rows=\"10\" name=\"code\" readonly>Traceback (most recent call last):\n",
      "  File &#34;C:\\Users\\User\\Documents\\Faculdade\\PAV\\ClinicaMedica 2.0\\Trabalho\\ClinicaMedica\\venv\\Lib\\site-packages\\flask\\app.py&#34;, line 1536, in __call__\n",
      "    return self.wsgi_app(environ, start_response)\n",
      "           ^^^^^^^^^^^^^^^^^^^^^^^^^^^^^^^^^^^^^^\n",
      "  File &#34;C:\\Users\\User\\Documents\\Faculdade\\PAV\\ClinicaMedica 2.0\\Trabalho\\ClinicaMedica\\venv\\Lib\\site-packages\\flask\\app.py&#34;, line 1514, in wsgi_app\n",
      "    response = self.handle_exception(e)\n",
      "               ^^^^^^^^^^^^^^^^^^^^^^^^\n",
      "  File &#34;C:\\Users\\User\\Documents\\Faculdade\\PAV\\ClinicaMedica 2.0\\Trabalho\\ClinicaMedica\\venv\\Lib\\site-packages\\flask_cors\\extension.py&#34;, line 176, in wrapped_function\n",
      "    return cors_after_request(app.make_response(f(*args, **kwargs)))\n",
      "                                                ^^^^^^^^^^^^^^^^^^^^\n",
      "  File &#34;C:\\Users\\User\\Documents\\Faculdade\\PAV\\ClinicaMedica 2.0\\Trabalho\\ClinicaMedica\\venv\\Lib\\site-packages\\flask\\app.py&#34;, line 1511, in wsgi_app\n",
      "    response = self.full_dispatch_request()\n",
      "               ^^^^^^^^^^^^^^^^^^^^^^^^^^^^\n",
      "  File &#34;C:\\Users\\User\\Documents\\Faculdade\\PAV\\ClinicaMedica 2.0\\Trabalho\\ClinicaMedica\\venv\\Lib\\site-packages\\flask\\app.py&#34;, line 919, in full_dispatch_request\n",
      "    rv = self.handle_user_exception(e)\n",
      "         ^^^^^^^^^^^^^^^^^^^^^^^^^^^^^\n",
      "  File &#34;C:\\Users\\User\\Documents\\Faculdade\\PAV\\ClinicaMedica 2.0\\Trabalho\\ClinicaMedica\\venv\\Lib\\site-packages\\flask_cors\\extension.py&#34;, line 176, in wrapped_function\n",
      "    return cors_after_request(app.make_response(f(*args, **kwargs)))\n",
      "                                                ^^^^^^^^^^^^^^^^^^^^\n",
      "  File &#34;C:\\Users\\User\\Documents\\Faculdade\\PAV\\ClinicaMedica 2.0\\Trabalho\\ClinicaMedica\\venv\\Lib\\site-packages\\flask\\app.py&#34;, line 917, in full_dispatch_request\n",
      "    rv = self.dispatch_request()\n",
      "         ^^^^^^^^^^^^^^^^^^^^^^^\n",
      "  File &#34;C:\\Users\\User\\Documents\\Faculdade\\PAV\\ClinicaMedica 2.0\\Trabalho\\ClinicaMedica\\venv\\Lib\\site-packages\\flask\\app.py&#34;, line 902, in dispatch_request\n",
      "    return self.ensure_sync(self.view_functions[rule.endpoint])(**view_args)  # type: ignore[no-any-return]\n",
      "           ^^^^^^^^^^^^^^^^^^^^^^^^^^^^^^^^^^^^^^^^^^^^^^^^^^^^^^^^^^^^^^^^^^^^^^^^^^^^^^^^^^^^^^^^^^^^^^^^\n",
      "  File &#34;C:\\Users\\User\\Documents\\Faculdade\\PAV\\ClinicaMedica 2.0\\Trabalho\\ClinicaMedica\\src\\routes\\posologia_route.py&#34;, line 42, in deletar_posologia\n",
      "    session = SessionLocal()\n",
      "              ^^^^^^^^^^^^^^\n",
      "TypeError: &#39;NoneType&#39; object is not callable\n",
      "</textarea>\n",
      "</div>\n",
      "<div class=\"explanation\">\n",
      "  The debugger caught an exception in your WSGI application.  You can now\n",
      "  look at the traceback which led to the error.  <span class=\"nojavascript\">\n",
      "  If you enable JavaScript you can also use additional features such as code\n",
      "  execution (if the evalex feature is enabled), automatic pasting of the\n",
      "  exceptions and much more.</span>\n",
      "</div>\n",
      "      <div class=\"footer\">\n",
      "        Brought to you by <strong class=\"arthur\">DON'T PANIC</strong>, your\n",
      "        friendly Werkzeug powered traceback interpreter.\n",
      "      </div>\n",
      "    </div>\n",
      "\n",
      "    <div class=\"pin-prompt\">\n",
      "      <div class=\"inner\">\n",
      "        <h3>Console Locked</h3>\n",
      "        <p>\n",
      "          The console is locked and needs to be unlocked by entering the PIN.\n",
      "          You can find the PIN printed out on the standard output of your\n",
      "          shell that runs the server.\n",
      "        <form>\n",
      "          <p>PIN:\n",
      "            <input type=text name=pin size=14>\n",
      "            <input type=submit name=btn value=\"Confirm Pin\">\n",
      "        </form>\n",
      "      </div>\n",
      "    </div>\n",
      "  </body>\n",
      "</html>\n",
      "\n",
      "<!--\n",
      "\n",
      "Traceback (most recent call last):\n",
      "  File \"C:\\Users\\User\\Documents\\Faculdade\\PAV\\ClinicaMedica 2.0\\Trabalho\\ClinicaMedica\\venv\\Lib\\site-packages\\flask\\app.py\", line 1536, in __call__\n",
      "    return self.wsgi_app(environ, start_response)\n",
      "           ^^^^^^^^^^^^^^^^^^^^^^^^^^^^^^^^^^^^^^\n",
      "  File \"C:\\Users\\User\\Documents\\Faculdade\\PAV\\ClinicaMedica 2.0\\Trabalho\\ClinicaMedica\\venv\\Lib\\site-packages\\flask\\app.py\", line 1514, in wsgi_app\n",
      "    response = self.handle_exception(e)\n",
      "               ^^^^^^^^^^^^^^^^^^^^^^^^\n",
      "  File \"C:\\Users\\User\\Documents\\Faculdade\\PAV\\ClinicaMedica 2.0\\Trabalho\\ClinicaMedica\\venv\\Lib\\site-packages\\flask_cors\\extension.py\", line 176, in wrapped_function\n",
      "    return cors_after_request(app.make_response(f(*args, **kwargs)))\n",
      "                                                ^^^^^^^^^^^^^^^^^^^^\n",
      "  File \"C:\\Users\\User\\Documents\\Faculdade\\PAV\\ClinicaMedica 2.0\\Trabalho\\ClinicaMedica\\venv\\Lib\\site-packages\\flask\\app.py\", line 1511, in wsgi_app\n",
      "    response = self.full_dispatch_request()\n",
      "               ^^^^^^^^^^^^^^^^^^^^^^^^^^^^\n",
      "  File \"C:\\Users\\User\\Documents\\Faculdade\\PAV\\ClinicaMedica 2.0\\Trabalho\\ClinicaMedica\\venv\\Lib\\site-packages\\flask\\app.py\", line 919, in full_dispatch_request\n",
      "    rv = self.handle_user_exception(e)\n",
      "         ^^^^^^^^^^^^^^^^^^^^^^^^^^^^^\n",
      "  File \"C:\\Users\\User\\Documents\\Faculdade\\PAV\\ClinicaMedica 2.0\\Trabalho\\ClinicaMedica\\venv\\Lib\\site-packages\\flask_cors\\extension.py\", line 176, in wrapped_function\n",
      "    return cors_after_request(app.make_response(f(*args, **kwargs)))\n",
      "                                                ^^^^^^^^^^^^^^^^^^^^\n",
      "  File \"C:\\Users\\User\\Documents\\Faculdade\\PAV\\ClinicaMedica 2.0\\Trabalho\\ClinicaMedica\\venv\\Lib\\site-packages\\flask\\app.py\", line 917, in full_dispatch_request\n",
      "    rv = self.dispatch_request()\n",
      "         ^^^^^^^^^^^^^^^^^^^^^^^\n",
      "  File \"C:\\Users\\User\\Documents\\Faculdade\\PAV\\ClinicaMedica 2.0\\Trabalho\\ClinicaMedica\\venv\\Lib\\site-packages\\flask\\app.py\", line 902, in dispatch_request\n",
      "    return self.ensure_sync(self.view_functions[rule.endpoint])(**view_args)  # type: ignore[no-any-return]\n",
      "           ^^^^^^^^^^^^^^^^^^^^^^^^^^^^^^^^^^^^^^^^^^^^^^^^^^^^^^^^^^^^^^^^^^^^^^^^^^^^^^^^^^^^^^^^^^^^^^^^\n",
      "  File \"C:\\Users\\User\\Documents\\Faculdade\\PAV\\ClinicaMedica 2.0\\Trabalho\\ClinicaMedica\\src\\routes\\posologia_route.py\", line 42, in deletar_posologia\n",
      "    session = SessionLocal()\n",
      "              ^^^^^^^^^^^^^^\n",
      "TypeError: 'NoneType' object is not callable\n",
      "\n",
      "\n",
      "-->\n",
      "\n"
     ]
    }
   ],
   "source": [
    "url = \"http://localhost:5000/posologias/5\"\n",
    "\n",
    "response = requests.delete(url)\n",
    "\n",
    "print(\"Status:\", response.status_code)\n",
    "print(\"Resposta:\", response.text)"
   ]
  }
 ],
 "metadata": {
  "kernelspec": {
   "display_name": "venv",
   "language": "python",
   "name": "python3"
  },
  "language_info": {
   "codemirror_mode": {
    "name": "ipython",
    "version": 3
   },
   "file_extension": ".py",
   "mimetype": "text/x-python",
   "name": "python",
   "nbconvert_exporter": "python",
   "pygments_lexer": "ipython3",
   "version": "3.12.10"
  }
 },
 "nbformat": 4,
 "nbformat_minor": 5
}
