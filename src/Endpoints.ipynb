{
 "cells": [
  {
   "cell_type": "markdown",
   "id": "19c8f9ac",
   "metadata": {},
   "source": [
    "Endpoint base para listagem, ou método GET"
   ]
  },
  {
   "cell_type": "code",
   "execution_count": 2,
   "id": "a5ddbceb",
   "metadata": {},
   "outputs": [],
   "source": [
    "from flask import Blueprint, jsonify, request\n",
    "from typing import Type\n",
    "\n",
    "class BaseRoute:\n",
    "    def __init__(self, name: str, url_prefix: str, service_class: Type):\n",
    "        self.blueprint = Blueprint(name, __name__, url_prefix=url_prefix)\n",
    "        self.service_class = service_class\n",
    "\n",
    "        self.blueprint.add_url_rule(\"/\", view_func=self.listar, methods=[\"GET\"])  \n",
    "\n",
    "def listar(self):\n",
    "    session, service = self.get_service()\n",
    "    try:\n",
    "        entidades = service.listar()\n",
    "        return jsonify([e.to_dict() for e in entidades])\n",
    "    finally:\n",
    "        session.close()"
   ]
  },
  {
   "cell_type": "markdown",
   "id": "4a9638b4",
   "metadata": {},
   "source": [
    "Endpoint de listagem de consulta, método GET. Lista todas as consultas cadastradas."
   ]
  },
  {
   "cell_type": "code",
   "execution_count": 3,
   "id": "7d9a3e90",
   "metadata": {},
   "outputs": [],
   "source": [
    "from services.consulta_service import ConsultaService\n",
    "from flask import Blueprint, jsonify, request\n",
    "\n",
    "consulta_bp = Blueprint(\"Consulta\", __name__, url_prefix=\"/consultas\")\n",
    "\n",
    "@consulta_bp.route(\"/\", methods=[\"GET\"])\n",
    "def listar_consultas():\n",
    "    return jsonify(ConsultaService.listar())"
   ]
  },
  {
   "cell_type": "markdown",
   "id": "988fa78f",
   "metadata": {},
   "source": [
    "Endpoint para as especialidades. Herda as funções listar, buscar_por_id, criar e deletar da base_route (Métodos GET, POST e DELETE )"
   ]
  },
  {
   "cell_type": "code",
   "execution_count": 3,
   "id": "554cc037",
   "metadata": {},
   "outputs": [],
   "source": [
    "from routes.base_route import BaseRoute\n",
    "from services.especialidade_service import EspecialidadeService\n",
    "\n",
    "especialidade_route = BaseRoute(\"Especialidade\", \"/especialidades\", EspecialidadeService)\n",
    "especialidade_bp = especialidade_route.blueprint"
   ]
  },
  {
   "cell_type": "markdown",
   "id": "a87a3b36",
   "metadata": {},
   "source": [
    "Endpoint para os medicamentos. Herda as funções listar, buscar_por_id, criar e deletar da base_route (Métodos GET, POST e DELETE )"
   ]
  },
  {
   "cell_type": "code",
   "execution_count": 4,
   "id": "e480b65e",
   "metadata": {},
   "outputs": [],
   "source": [
    "from routes.base_route import BaseRoute\n",
    "from services.medicamento_service import MedicamentoService\n",
    "\n",
    "medicamento_route = BaseRoute(\"Medicamento\", \"/medicamentos\", MedicamentoService)\n",
    "medicamento_bp = medicamento_route.blueprint"
   ]
  },
  {
   "cell_type": "markdown",
   "id": "460a46d0",
   "metadata": {},
   "source": [
    "Endpoint para os médicos. Herda as funções listar, buscar_por_id, criar e deletar da base_route (Métodos GET, POST e DELETE )"
   ]
  },
  {
   "cell_type": "code",
   "execution_count": 5,
   "id": "49db9e9e",
   "metadata": {},
   "outputs": [],
   "source": [
    "from routes.base_route import BaseRoute\n",
    "from services.medico_service import MedicoService\n",
    "\n",
    "medico_route = BaseRoute(\"Medico\", \"/medicos\", MedicoService)\n",
    "medico_bp = medico_route.blueprint"
   ]
  },
  {
   "cell_type": "markdown",
   "id": "1a685b91",
   "metadata": {},
   "source": [
    "Endpoint para os pacientes. Herda as funções listar, criar e deletar da base_route (Métodos GET, POST e DELETE )"
   ]
  },
  {
   "cell_type": "code",
   "execution_count": 6,
   "id": "3361fb8d",
   "metadata": {},
   "outputs": [],
   "source": [
    "from routes.base_route import BaseRoute\n",
    "from services.paciente_service import PacienteService\n",
    "\n",
    "paciente_route = BaseRoute(\"Paciente\", \"/pacientes\", PacienteService)\n",
    "paciente_bp = paciente_route.blueprint"
   ]
  },
  {
   "cell_type": "markdown",
   "id": "a8fa38f7",
   "metadata": {},
   "source": [
    "Endpoint para listagem das posologias, método GET. Lista todas as posologias registradas."
   ]
  },
  {
   "cell_type": "code",
   "execution_count": null,
   "id": "7d5c2dae",
   "metadata": {},
   "outputs": [],
   "source": [
    "from flask import Blueprint, jsonify, request\n",
    "from services.posologia_service import PosologiaService\n",
    "\n",
    "posologia_bp = Blueprint(\"Posologia\", __name__, url_prefix=\"/posologias\")\n",
    "\n",
    "@posologia_bp.route(\"/\", methods=[\"GET\"])\n",
    "def listar_posologias():\n",
    "    session = SessionLocal()\n",
    "    service = PosologiaService(session)\n",
    "    posologias = service.listar()\n",
    "    session.close()\n",
    "    return jsonify([p.to_dict() for p in posologias])"
   ]
  },
  {
   "cell_type": "markdown",
   "id": "cd74c288",
   "metadata": {},
   "source": [
    "Endpoint para os tratamentos. Herda as funções listar, buscar_por_id, criar e deletar da base_route (Métodos GET, POST e DELETE )"
   ]
  },
  {
   "cell_type": "code",
   "execution_count": 8,
   "id": "a54941f5",
   "metadata": {},
   "outputs": [],
   "source": [
    "from routes.base_route import BaseRoute\n",
    "from services.tratamento_service import TratamentoService\n",
    "\n",
    "tratamento_route = BaseRoute(\"Tratamento\", \"/tratamentos\", TratamentoService)\n",
    "tratamento_bp = tratamento_route.blueprint"
   ]
  },
  {
   "cell_type": "markdown",
   "id": "edd9e368",
   "metadata": {},
   "source": [
    "Endpoint base para o método GET por ID (busca as entidades pelo ID delas)"
   ]
  },
  {
   "cell_type": "code",
   "execution_count": 26,
   "id": "db05321a",
   "metadata": {},
   "outputs": [],
   "source": [
    "from flask import Blueprint, jsonify, request\n",
    "from typing import Type\n",
    "\n",
    "class BaseRoute:\n",
    "    def __init__(self, name: str, url_prefix: str, service_class: Type):\n",
    "        self.blueprint = Blueprint(name, __name__, url_prefix=url_prefix)\n",
    "        self.service_class = service_class\n",
    "\n",
    "        self.blueprint.add_url_rule(\"/<int:entity_id>\", view_func=self.buscar_por_id, methods=[\"GET\"])\n",
    "\n",
    "def buscar_por_id(self, entity_id: int):\n",
    "        session, service = self.get_service()\n",
    "        try:\n",
    "            entidade = service.buscar_por_id(entity_id)\n",
    "            if entidade:\n",
    "                return jsonify(entidade.to_dict())\n",
    "            return jsonify({\"erro\": \"Não encontrado\"}), 404\n",
    "        finally:\n",
    "            session.close()"
   ]
  },
  {
   "cell_type": "markdown",
   "id": "f4b681c5",
   "metadata": {},
   "source": [
    "Endpoint de listagem de consultas por ID do paciente (Método GET)"
   ]
  },
  {
   "cell_type": "code",
   "execution_count": null,
   "id": "f6b0ad18",
   "metadata": {},
   "outputs": [],
   "source": [
    "from flask import Blueprint, jsonify, request\n",
    "from services.consulta_service import ConsultaService\n",
    "\n",
    "consulta_bp = Blueprint(\"Consulta\", __name__, url_prefix=\"/consultas\")\n",
    "\n",
    "@consulta_bp.route(\"/paciente/<int:paciente_id>\", methods=[\"GET\"])\n",
    "def listar_consultas_por_paciente(paciente_id):\n",
    "    return jsonify(ConsultaService.listar_por_paciente(paciente_id))"
   ]
  },
  {
   "cell_type": "markdown",
   "id": "f49ed7f5",
   "metadata": {},
   "source": [
    "Endpoint de listagem de posologias pelo ID do paciente (Método GET)"
   ]
  },
  {
   "cell_type": "code",
   "execution_count": 11,
   "id": "4ef993be",
   "metadata": {},
   "outputs": [],
   "source": [
    "from flask import Blueprint, jsonify, request\n",
    "from services.posologia_service import PosologiaService\n",
    "\n",
    "@posologia_bp.route(\"/<int:entity_id>\", methods=[\"GET\"])\n",
    "def buscar_posologia(entity_id):\n",
    "    session = SessionLocal()\n",
    "    service = PosologiaService(session)\n",
    "    posologia = service.buscar_por_id(entity_id)\n",
    "    session.close()\n",
    "    if posologia:\n",
    "        return jsonify(posologia.to_dict())\n",
    "    return jsonify({\"erro\": \"Posologia não encontrada\"}), 404"
   ]
  },
  {
   "cell_type": "markdown",
   "id": "fbf0bd9f",
   "metadata": {},
   "source": [
    "Endpoint base para o método POST"
   ]
  },
  {
   "cell_type": "code",
   "execution_count": 27,
   "id": "a32c07f1",
   "metadata": {},
   "outputs": [],
   "source": [
    "from flask import Blueprint, jsonify, request\n",
    "from typing import Type\n",
    "\n",
    "class BaseRoute:\n",
    "    def __init__(self, name: str, url_prefix: str, service_class: Type):\n",
    "        self.blueprint = Blueprint(name, __name__, url_prefix=url_prefix)\n",
    "        self.service_class = service_class\n",
    "\n",
    "        self.blueprint.add_url_rule(\"/\", view_func=self.criar, methods=[\"POST\"])\n",
    "\n",
    "def criar(self):\n",
    "        session, service = self.get_service()\n",
    "        data = request.get_json()\n",
    "        try:\n",
    "            entidade = service.criar(data)\n",
    "            return jsonify(entidade.to_dict()), 201\n",
    "        except ValueError as e:\n",
    "            return jsonify({\"erro\": str(e)}), 400\n",
    "        finally:\n",
    "            session.close()"
   ]
  },
  {
   "cell_type": "markdown",
   "id": "51f48c47",
   "metadata": {},
   "source": [
    "Endpoint para postagem de uma nova consulta (método POST)"
   ]
  },
  {
   "cell_type": "code",
   "execution_count": null,
   "id": "f3648fe2",
   "metadata": {},
   "outputs": [],
   "source": [
    "from flask import Blueprint, jsonify, request\n",
    "from services.consulta_service import ConsultaService\n",
    "\n",
    "@consulta_bp.route(\"/\", methods=[\"POST\"])\n",
    "def criar_consulta():\n",
    "    data = request.get_json()\n",
    "    resultado = ConsultaService.criar(data)\n",
    "    return resultado"
   ]
  },
  {
   "cell_type": "markdown",
   "id": "60b54dd5",
   "metadata": {},
   "source": [
    "Endpoint para postagem de uma nova posologia (Metodo POST)"
   ]
  },
  {
   "cell_type": "code",
   "execution_count": 14,
   "id": "81ed454c",
   "metadata": {},
   "outputs": [],
   "source": [
    "from flask import Blueprint, jsonify, request\n",
    "from services.posologia_service import PosologiaService\n",
    "\n",
    "@posologia_bp.route(\"/\", methods=[\"POST\"])\n",
    "def criar_posologia():\n",
    "    session = SessionLocal()\n",
    "    service = PosologiaService(session)\n",
    "    data = request.get_json()\n",
    "    try:\n",
    "        posologia = service.criar(data)\n",
    "        session.close()\n",
    "        return jsonify(posologia.to_dict()), 201\n",
    "    except ValueError as e:\n",
    "        session.close()\n",
    "        return jsonify({\"erro\": str(e)}), 400"
   ]
  },
  {
   "cell_type": "markdown",
   "id": "d4fabda1",
   "metadata": {},
   "source": [
    "Endpoint base para o método DELETE (Por ID)"
   ]
  },
  {
   "cell_type": "code",
   "execution_count": 28,
   "id": "837b09fc",
   "metadata": {},
   "outputs": [],
   "source": [
    "from flask import Blueprint, jsonify, request\n",
    "from typing import Type\n",
    "\n",
    "class BaseRoute:\n",
    "    def __init__(self, name: str, url_prefix: str, service_class: Type):\n",
    "        self.blueprint = Blueprint(name, __name__, url_prefix=url_prefix)\n",
    "        self.service_class = service_class\n",
    "\n",
    "        self.blueprint.add_url_rule(\"/<int:entity_id>\", view_func=self.deletar, methods=[\"DELETE\"])\n",
    "\n",
    "def deletar(self, entity_id: int):\n",
    "        session, service = self.get_service()\n",
    "        try:\n",
    "            entidade = service.deletar(entity_id)\n",
    "            if entidade:\n",
    "                return jsonify({\"mensagem\": \"Deletado com sucesso\"})\n",
    "            return jsonify({\"erro\": \"Não encontrado\"}), 404\n",
    "        finally:\n",
    "            session.close()\n",
    "    "
   ]
  },
  {
   "cell_type": "markdown",
   "id": "70e6054b",
   "metadata": {},
   "source": [
    "Endpoint para deleter uma consulta (Método DELETE, por ID)"
   ]
  },
  {
   "cell_type": "code",
   "execution_count": null,
   "id": "c62d82de",
   "metadata": {},
   "outputs": [],
   "source": [
    "from flask import Blueprint, jsonify, request\n",
    "from services.consulta_service import ConsultaService\n",
    "\n",
    "@consulta_bp.route(\"/<int:consulta_id>\", methods=[\"DELETE\"])\n",
    "def deletar_consulta(consulta_id):\n",
    "    return ConsultaService.deletar(consulta_id)"
   ]
  },
  {
   "cell_type": "markdown",
   "id": "a6fe97ba",
   "metadata": {},
   "source": [
    "Endpoint para deleter uma posologia (Método DELETE, por ID)"
   ]
  },
  {
   "cell_type": "code",
   "execution_count": 17,
   "id": "487cbe50",
   "metadata": {},
   "outputs": [],
   "source": [
    "from flask import Blueprint, jsonify, request\n",
    "from services.posologia_service import PosologiaService\n",
    "\n",
    "@posologia_bp.route(\"/<int:entity_id>\", methods=[\"DELETE\"])\n",
    "def deletar_posologia(entity_id):\n",
    "    session = SessionLocal()\n",
    "    service = PosologiaService(session)\n",
    "    posologia = service.deletar(entity_id)\n",
    "    session.close()\n",
    "    if posologia:\n",
    "        return jsonify({\"mensagem\": \"Posologia deletada\"})\n",
    "    return jsonify({\"erro\": \"Posologia não encontrada\"}), 404"
   ]
  }
 ],
 "metadata": {
  "kernelspec": {
   "display_name": "venv",
   "language": "python",
   "name": "python3"
  },
  "language_info": {
   "codemirror_mode": {
    "name": "ipython",
    "version": 3
   },
   "file_extension": ".py",
   "mimetype": "text/x-python",
   "name": "python",
   "nbconvert_exporter": "python",
   "pygments_lexer": "ipython3",
   "version": "3.12.10"
  }
 },
 "nbformat": 4,
 "nbformat_minor": 5
}
